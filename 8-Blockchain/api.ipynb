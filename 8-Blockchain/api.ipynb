{
 "cells": [
  {
   "cell_type": "markdown",
   "metadata": {},
   "source": [
    "### 1.6 Definicion de API REST: Inserción de transacciones\n",
    "En este apartado es el turno de desarrollar una interfaz de tipo API REST para establecer comunicaciones con la _Blockchain_."
   ]
  },
  {
   "cell_type": "code",
   "execution_count": 9,
   "metadata": {},
   "outputs": [],
   "source": [
    "import requests\n",
    "import json"
   ]
  },
  {
   "cell_type": "markdown",
   "metadata": {},
   "source": [
    "Para probar el endpoint:\n",
    "- [POST] http://127.0.0.1:8000/new_transaction : Permite insertar nuevas transacciones en la Blockchain. El body de la request es un JSON dict."
   ]
  },
  {
   "cell_type": "markdown",
   "metadata": {},
   "source": [
    "Ejemplo de request exitosa:"
   ]
  },
  {
   "cell_type": "code",
   "execution_count": 16,
   "metadata": {},
   "outputs": [
    {
     "name": "stdout",
     "output_type": "stream",
     "text": [
      "Success\n"
     ]
    }
   ],
   "source": [
    "# URL del endpoint\n",
    "url = \"http://127.0.0.1:8000/new_transaction\"\n",
    "\n",
    "payload = json.dumps({\n",
    "  \"author\": \"David\",\n",
    "  \"content\": \"Pagos\"\n",
    "})\n",
    "headers = {\n",
    "  'Content-Type': 'application/json'\n",
    "}\n",
    "\n",
    "response = requests.request(\"POST\", url, headers=headers, data=payload)\n",
    "\n",
    "print(response.text)"
   ]
  },
  {
   "cell_type": "markdown",
   "metadata": {},
   "source": [
    "Ejemplo de request fallida por datos invalidos:"
   ]
  },
  {
   "cell_type": "code",
   "execution_count": 5,
   "metadata": {},
   "outputs": [
    {
     "name": "stdout",
     "output_type": "stream",
     "text": [
      "Invalid transaction\n"
     ]
    }
   ],
   "source": [
    "# URL del endpoint\n",
    "url = \"http://127.0.0.1:8000/new_transaction\"\n",
    "\n",
    "payload = json.dumps({\n",
    "  \"author\": \"David\",\n",
    "  # No required 'content' field\n",
    "})\n",
    "headers = {\n",
    "  'Content-Type': 'application/json'\n",
    "}\n",
    "\n",
    "response = requests.request(\"POST\", url, headers=headers, data=payload)\n",
    "\n",
    "print(response.text)"
   ]
  },
  {
   "cell_type": "markdown",
   "metadata": {},
   "source": [
    "### 1.7 Definición del API REST: Obtención de la cadena de bloques. \n",
    "En esta parte, hemos implementado un _endpoint_ para obtener la cadena de bloques la _Blockchain_."
   ]
  },
  {
   "cell_type": "code",
   "execution_count": 19,
   "metadata": {},
   "outputs": [
    {
     "name": "stdout",
     "output_type": "stream",
     "text": [
      "{\"length\": 2, \"chain\": [{\"index\": 0, \"transactions\": [], \"timestamp\": 1652383549.037355, \"previous_hash\": \"0\", \"nonce\": 0, \"current_hash\": \"be2fda09fe5db848e956e2cd05f44e5d5df89364272763097d13648302f5d76a\"}, {\"index\": 1, \"transactions\": [{\"author\": \"David\", \"content\": \"Pagos\", \"timestamp\": 1652383708.2247488}], \"timestamp\": 1652383717.07352, \"previous_hash\": \"be2fda09fe5db848e956e2cd05f44e5d5df89364272763097d13648302f5d76a\", \"nonce\": 4147, \"current_hash\": \"0004ec38c8a46ba4c50d0752d073e13f00677019d6e82dfe92743335ab71dca8\"}], \"peers\": [\"127.0.0.1:8002\"]}\n"
     ]
    }
   ],
   "source": [
    "url = \"http://127.0.0.1:8000/chain\"\n",
    "\n",
    "payload={}\n",
    "headers = {}\n",
    "\n",
    "response = requests.request(\"GET\", url, headers=headers, data=payload)\n",
    "\n",
    "print(response.text)"
   ]
  },
  {
   "cell_type": "markdown",
   "metadata": {},
   "source": [
    "En este caso, como no hemos añadido ningún otro nuevo bloque, observamos que solo contiene el bloque de genesis."
   ]
  },
  {
   "cell_type": "markdown",
   "metadata": {},
   "source": [
    "### Blockchain 1.8: Definición del API REST: Minado de transacciones.\n",
    "En este apartado se ha desarrollado un endpoint _/mine_ de tipo GET, de forma que al lanzar un petición contra esa nueva ruta, la API realiza un mineado de las transacciones pendientes de ser validadas."
   ]
  },
  {
   "cell_type": "code",
   "execution_count": 18,
   "metadata": {},
   "outputs": [
    {
     "name": "stdout",
     "output_type": "stream",
     "text": [
      "The index of the mining is 1\n"
     ]
    }
   ],
   "source": [
    "url = \"http://127.0.0.1:8000/mine\"\n",
    "\n",
    "payload={}\n",
    "headers = {}\n",
    "\n",
    "response = requests.request(\"GET\", url, headers=headers, data=payload)\n",
    "\n",
    "print(response.text)"
   ]
  },
  {
   "cell_type": "markdown",
   "metadata": {},
   "source": [
    "Si ahora ejecutamos el código del anterior apartado 1.7 vemos como se haincorporado un nuevo bloque a la cadena, que contiene las transacciones que estaban pendientes del punto 1.6."
   ]
  },
  {
   "cell_type": "markdown",
   "metadata": {},
   "source": [
    "### 1.9 Definición del API REST: Transacciones sin confirmar.\n",
    "Desarrollamos una nuevo endpoint para consultar las transacciones pendientes de ser minadas."
   ]
  },
  {
   "cell_type": "markdown",
   "metadata": {},
   "source": [
    "Primero generamos nuevas transacciones, de igual forma que antes:"
   ]
  },
  {
   "cell_type": "code",
   "execution_count": 13,
   "metadata": {},
   "outputs": [
    {
     "name": "stdout",
     "output_type": "stream",
     "text": [
      "Success\n"
     ]
    }
   ],
   "source": [
    "# URL del endpoint\n",
    "url = \"http://127.0.0.1:8000/new_transaction\"\n",
    "\n",
    "payload = json.dumps({\n",
    "  \"author\": \"Raul\",\n",
    "  \"content\": \"transaction#1\"\n",
    "})\n",
    "headers = {\n",
    "  'Content-Type': 'application/json'\n",
    "}\n",
    "\n",
    "response = requests.request(\"POST\", url, headers=headers, data=payload)\n",
    "\n",
    "print(response.text)"
   ]
  },
  {
   "cell_type": "markdown",
   "metadata": {},
   "source": [
    "Ahora lanzamos la request:"
   ]
  },
  {
   "cell_type": "code",
   "execution_count": 5,
   "metadata": {},
   "outputs": [
    {
     "name": "stdout",
     "output_type": "stream",
     "text": [
      "[]\n"
     ]
    }
   ],
   "source": [
    "url = \"http://127.0.0.1:8000/pending_transactions\"\n",
    "\n",
    "payload={}\n",
    "headers = {}\n",
    "\n",
    "response = requests.request(\"GET\", url, headers=headers, data=payload)\n",
    "\n",
    "print(response.text)"
   ]
  },
  {
   "cell_type": "markdown",
   "metadata": {},
   "source": [
    "Y como se puede comprobar, obtenemos los datos de la transacción enviada anteriormente."
   ]
  },
  {
   "cell_type": "markdown",
   "metadata": {},
   "source": [
    "### 1.10: Definición del API REST: Registro de nuevos nodos.\n",
    "En este aparatado se pretende expandir el sistema de Blockchain, hasta ahora en un único nodo, para implementar una red peer-to-peer."
   ]
  },
  {
   "cell_type": "markdown",
   "metadata": {},
   "source": [
    "En primer lugar, vamos a probar a registrar nuevos nodos a la red medinate el endpoint desarrollado _/register_new_node_. \n",
    "\n",
    "Un ejemplo de petición fallida (al no tener el campo \"new_node_address\"):"
   ]
  },
  {
   "cell_type": "code",
   "execution_count": 20,
   "metadata": {},
   "outputs": [
    {
     "name": "stdout",
     "output_type": "stream",
     "text": [
      "Invalid transaction\n"
     ]
    }
   ],
   "source": [
    "url = \"http://127.0.0.1:8000/register_new_node\"\n",
    "\n",
    "payload = json.dumps({\n",
    "})\n",
    "headers = {\n",
    "  'Content-Type': 'application/json'\n",
    "}\n",
    "\n",
    "response = requests.request(\"POST\", url, headers=headers, data=payload)\n",
    "\n",
    "print(response.text)"
   ]
  },
  {
   "cell_type": "markdown",
   "metadata": {},
   "source": [
    "Añadiendo el campo que faltaba, el resultado es exitoso, y ponemos comprobar como el campo peers contiene la dirección del nodo introducida."
   ]
  },
  {
   "cell_type": "code",
   "execution_count": 21,
   "metadata": {},
   "outputs": [
    {
     "name": "stdout",
     "output_type": "stream",
     "text": [
      "{\"length\": 2, \"chain\": [{\"index\": 0, \"transactions\": [], \"timestamp\": 1652383549.037355, \"previous_hash\": \"0\", \"nonce\": 0, \"current_hash\": \"be2fda09fe5db848e956e2cd05f44e5d5df89364272763097d13648302f5d76a\"}, {\"index\": 1, \"transactions\": [{\"author\": \"David\", \"content\": \"Pagos\", \"timestamp\": 1652383708.2247488}], \"timestamp\": 1652383717.07352, \"previous_hash\": \"be2fda09fe5db848e956e2cd05f44e5d5df89364272763097d13648302f5d76a\", \"nonce\": 4147, \"current_hash\": \"0004ec38c8a46ba4c50d0752d073e13f00677019d6e82dfe92743335ab71dca8\"}], \"peers\": [\"127.0.0.1:8002\"]}\n"
     ]
    }
   ],
   "source": [
    "url = \"http://127.0.0.1:8000/register_new_node\"\n",
    "\n",
    "payload = json.dumps({\n",
    "  \"new_node_address\": \"127.0.0.1:8002\"\n",
    "})\n",
    "headers = {\n",
    "  'Content-Type': 'application/json'\n",
    "}\n",
    "\n",
    "response = requests.request(\"POST\", url, headers=headers, data=payload)\n",
    "\n",
    "print(response.text)\n"
   ]
  },
  {
   "cell_type": "markdown",
   "metadata": {},
   "source": [
    "En segundo lugar, sometemos a prueba al endpoint desarrollado para registrar un node contra un nodo ya existente de la red _Blockchain_."
   ]
  },
  {
   "cell_type": "code",
   "execution_count": 22,
   "metadata": {},
   "outputs": [
    {
     "name": "stdout",
     "output_type": "stream",
     "text": [
      "{\"length\": 2, \"chain\": [{\"index\": 0, \"transactions\": [], \"timestamp\": 1652383549.037355, \"previous_hash\": \"0\", \"nonce\": 0, \"current_hash\": \"be2fda09fe5db848e956e2cd05f44e5d5df89364272763097d13648302f5d76a\"}, {\"index\": 1, \"transactions\": [{\"author\": \"David\", \"content\": \"Pagos\", \"timestamp\": 1652383708.2247488}], \"timestamp\": 1652383717.07352, \"previous_hash\": \"be2fda09fe5db848e956e2cd05f44e5d5df89364272763097d13648302f5d76a\", \"nonce\": 4147, \"current_hash\": \"0004ec38c8a46ba4c50d0752d073e13f00677019d6e82dfe92743335ab71dca8\"}], \"peers\": [\"127.0.0.1:8002\"]}\n"
     ]
    }
   ],
   "source": [
    "url = \"http://127.0.0.1:8000/register_with_existing_node\"\n",
    "\n",
    "payload = json.dumps({\n",
    "  \"node_address\": \"127.0.0.1:8002\"\n",
    "})\n",
    "headers = {\n",
    "  'Content-Type': 'application/json'\n",
    "}\n",
    "\n",
    "response = requests.request(\"POST\", url, headers=headers, data=payload)\n",
    "\n",
    "print(response.text)"
   ]
  }
 ],
 "metadata": {
  "interpreter": {
   "hash": "360d2ec9e4dfd6b1878fd3e8a755d824822ee15ddf61adb86e60331f847457cf"
  },
  "kernelspec": {
   "display_name": "Python 3.9.7 ('SSDD')",
   "language": "python",
   "name": "python3"
  },
  "language_info": {
   "codemirror_mode": {
    "name": "ipython",
    "version": 3
   },
   "file_extension": ".py",
   "mimetype": "text/x-python",
   "name": "python",
   "nbconvert_exporter": "python",
   "pygments_lexer": "ipython3",
   "version": "3.9.7"
  },
  "orig_nbformat": 4
 },
 "nbformat": 4,
 "nbformat_minor": 2
}
