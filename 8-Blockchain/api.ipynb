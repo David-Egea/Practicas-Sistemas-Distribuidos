{
 "cells": [
  {
   "cell_type": "markdown",
   "metadata": {},
   "source": [
    "### 1.6 Definicion de API REST: Inserción de transacciones\n",
    "En este apartado es el turno de desarrollar una interfaz de tipo API REST para establecer comunicaciones con la _Blockchain_."
   ]
  },
  {
   "cell_type": "code",
   "execution_count": 7,
   "metadata": {},
   "outputs": [],
   "source": [
    "import requests\n",
    "import json"
   ]
  },
  {
   "cell_type": "markdown",
   "metadata": {},
   "source": [
    "Para probar el endpoint:\n",
    "- [POST] http://127.0.0.1:8000/new_transaction : Permite insertar nuevas transacciones en la Blockchain. El body de la request es un JSON dict."
   ]
  },
  {
   "cell_type": "markdown",
   "metadata": {},
   "source": [
    "Ejemplo de request exitosa:"
   ]
  },
  {
   "cell_type": "code",
   "execution_count": 10,
   "metadata": {},
   "outputs": [
    {
     "name": "stdout",
     "output_type": "stream",
     "text": [
      "Success\n"
     ]
    }
   ],
   "source": [
    "# URL del endpoint\n",
    "url = \"http://127.0.0.1:8000/new_transaction\"\n",
    "\n",
    "payload = json.dumps({\n",
    "  \"author\": \"David\",\n",
    "  \"content\": \"Pagos\"\n",
    "})\n",
    "headers = {\n",
    "  'Content-Type': 'application/json'\n",
    "}\n",
    "\n",
    "response = requests.request(\"POST\", url, headers=headers, data=payload)\n",
    "\n",
    "print(response.text)"
   ]
  },
  {
   "cell_type": "markdown",
   "metadata": {},
   "source": [
    "Ejemplo de request fallida por datos invalidos:"
   ]
  },
  {
   "cell_type": "code",
   "execution_count": 5,
   "metadata": {},
   "outputs": [
    {
     "name": "stdout",
     "output_type": "stream",
     "text": [
      "Invalid transaction\n"
     ]
    }
   ],
   "source": [
    "# URL del endpoint\n",
    "url = \"http://127.0.0.1:8000/new_transaction\"\n",
    "\n",
    "payload = json.dumps({\n",
    "  \"author\": \"David\",\n",
    "  # No required 'content' field\n",
    "})\n",
    "headers = {\n",
    "  'Content-Type': 'application/json'\n",
    "}\n",
    "\n",
    "response = requests.request(\"POST\", url, headers=headers, data=payload)\n",
    "\n",
    "print(response.text)"
   ]
  },
  {
   "cell_type": "markdown",
   "metadata": {},
   "source": [
    "### 1.7 Definición del API REST: Obtención de la cadena de bloques. \n",
    "En esta parte, hemos implementado un _endpoint_ para obtener la cadena de bloques la _Blockchain_."
   ]
  },
  {
   "cell_type": "code",
   "execution_count": 12,
   "metadata": {},
   "outputs": [
    {
     "name": "stdout",
     "output_type": "stream",
     "text": [
      "{\"length\": 3, \"chain\": [{\"index\": 0, \"transactions\": [], \"timestamp\": 1652372859.7888408, \"previous_hash\": \"0\", \"nonce\": 0, \"current_hash\": \"69a25afa9019aeb9baf18f274d096c51fd5f7d291fd50b59435f972b44b453a9\"}, {\"index\": 1, \"transactions\": [{\"author\": \"user1\", \"content\": \"transaction1\", \"timestamp\": 1652373518.8098178}, {\"author\": \"user1\", \"content\": \"transaction1\", \"timestamp\": 1652373579.260228}, {\"author\": \"David\", \"content\": \"Pagos\", \"timestamp\": 1652375399.4585664}], \"timestamp\": 1652376337.4349427, \"previous_hash\": \"69a25afa9019aeb9baf18f274d096c51fd5f7d291fd50b59435f972b44b453a9\", \"nonce\": 4535, \"current_hash\": \"0008812c7104fc35ed77b4e457a71c0656883b9a0bf8c3f4272ad84817b4d811\"}, {\"index\": 2, \"transactions\": [{\"author\": \"David\", \"content\": \"Pagos\", \"timestamp\": 1652376389.6033664}], \"timestamp\": 1652376393.5443707, \"previous_hash\": \"0008812c7104fc35ed77b4e457a71c0656883b9a0bf8c3f4272ad84817b4d811\", \"nonce\": 5994, \"current_hash\": \"000dbb62719f41fcba09aba544fb89fc866859ba0fe85ad90f7722aab95ad3a3\"}], \"peers\": []}\n"
     ]
    }
   ],
   "source": [
    "url = \"http://127.0.0.1:8000/chain\"\n",
    "\n",
    "payload={}\n",
    "headers = {}\n",
    "\n",
    "response = requests.request(\"GET\", url, headers=headers, data=payload)\n",
    "\n",
    "print(response.text)"
   ]
  },
  {
   "cell_type": "markdown",
   "metadata": {},
   "source": [
    "En este caso, como no hemos añadido ningún otro nuevo bloque, observamos que solo contiene el bloque de genesis."
   ]
  },
  {
   "cell_type": "markdown",
   "metadata": {},
   "source": [
    "### Blockchain 1.8: Definición del API REST: Minado de transacciones.\n",
    "En este apartado se ha desarrollado un endpoint _/mine_ de tipo GET, de forma que al lanzar un petición contra esa nueva ruta, la API realiza un mineado de las transacciones pendientes de ser validadas."
   ]
  },
  {
   "cell_type": "code",
   "execution_count": 11,
   "metadata": {},
   "outputs": [
    {
     "name": "stdout",
     "output_type": "stream",
     "text": [
      "The index of the mining is 2\n"
     ]
    }
   ],
   "source": [
    "url = \"http://127.0.0.1:8000/mine\"\n",
    "\n",
    "payload={}\n",
    "headers = {}\n",
    "\n",
    "response = requests.request(\"GET\", url, headers=headers, data=payload)\n",
    "\n",
    "print(response.text)"
   ]
  },
  {
   "cell_type": "markdown",
   "metadata": {},
   "source": [
    "Si ahora ejecutamos el código del anterior apartado 1.7 vemos como se haincorporado un nuevo bloque a la cadena, que contiene las transacciones que estaban pendientes del punto 1.6."
   ]
  },
  {
   "cell_type": "markdown",
   "metadata": {},
   "source": [
    "### 1.9 Definición del API REST: Transacciones sin confirmar.\n",
    "Desarrollamos una nuevo endpoint para consultar las transacciones pendientes de ser minadas."
   ]
  },
  {
   "cell_type": "markdown",
   "metadata": {},
   "source": [
    "Primero generamos nuevas transacciones, de igual forma que antes:"
   ]
  },
  {
   "cell_type": "code",
   "execution_count": 13,
   "metadata": {},
   "outputs": [
    {
     "name": "stdout",
     "output_type": "stream",
     "text": [
      "Success\n"
     ]
    }
   ],
   "source": [
    "# URL del endpoint\n",
    "url = \"http://127.0.0.1:8000/new_transaction\"\n",
    "\n",
    "payload = json.dumps({\n",
    "  \"author\": \"Raul\",\n",
    "  \"content\": \"transaction#1\"\n",
    "})\n",
    "headers = {\n",
    "  'Content-Type': 'application/json'\n",
    "}\n",
    "\n",
    "response = requests.request(\"POST\", url, headers=headers, data=payload)\n",
    "\n",
    "print(response.text)"
   ]
  },
  {
   "cell_type": "markdown",
   "metadata": {},
   "source": [
    "Ahora lanzamos la request:"
   ]
  },
  {
   "cell_type": "code",
   "execution_count": 14,
   "metadata": {},
   "outputs": [
    {
     "name": "stdout",
     "output_type": "stream",
     "text": [
      "[{'author': 'Raul', 'content': 'transaction#1', 'timestamp': 1652379509.7630787}]\n"
     ]
    }
   ],
   "source": [
    "url = \"http://127.0.0.1:8000/pending_transactions\"\n",
    "\n",
    "payload={}\n",
    "headers = {}\n",
    "\n",
    "response = requests.request(\"GET\", url, headers=headers, data=payload)\n",
    "\n",
    "print(response.text)"
   ]
  },
  {
   "cell_type": "markdown",
   "metadata": {},
   "source": [
    "Y como se puede comprobar, obtenemos los datos de la transacción enviada anteriormente."
   ]
  },
  {
   "cell_type": "markdown",
   "metadata": {},
   "source": [
    "### 1.10: Definición del API REST: Registro de nuevos nodos.\n",
    "En este aparatado se pretende expandir el sistema de Blockchain, hasta ahora en un único nodo, para implementar una red peer-to-peer."
   ]
  }
 ],
 "metadata": {
  "interpreter": {
   "hash": "360d2ec9e4dfd6b1878fd3e8a755d824822ee15ddf61adb86e60331f847457cf"
  },
  "kernelspec": {
   "display_name": "Python 3.9.7 ('SSDD')",
   "language": "python",
   "name": "python3"
  },
  "language_info": {
   "codemirror_mode": {
    "name": "ipython",
    "version": 3
   },
   "file_extension": ".py",
   "mimetype": "text/x-python",
   "name": "python",
   "nbconvert_exporter": "python",
   "pygments_lexer": "ipython3",
   "version": "3.9.7"
  },
  "orig_nbformat": 4
 },
 "nbformat": 4,
 "nbformat_minor": 2
}
