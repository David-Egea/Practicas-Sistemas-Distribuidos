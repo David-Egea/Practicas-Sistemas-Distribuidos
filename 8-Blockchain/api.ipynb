{
 "cells": [
  {
   "cell_type": "markdown",
   "metadata": {},
   "source": [
    "### 1.6 Definicion de API REST: Inserción de transacciones\n",
    "En este apartado es el turno de desarrollar una interfaz de tipo API REST para establecer comunicaciones con la _Blockchain_."
   ]
  },
  {
   "cell_type": "code",
   "execution_count": 1,
   "metadata": {},
   "outputs": [],
   "source": [
    "import requests\n",
    "import json"
   ]
  },
  {
   "cell_type": "markdown",
   "metadata": {},
   "source": [
    "Para probar el endpoint:\n",
    "- [POST] http://127.0.0.1:8000/new_transaction : Permite insertar nuevas transacciones en la Blockchain. El body de la request es un JSON dict."
   ]
  },
  {
   "cell_type": "markdown",
   "metadata": {},
   "source": [
    "Ejemplo de request exitosa:"
   ]
  },
  {
   "cell_type": "code",
   "execution_count": 16,
   "metadata": {},
   "outputs": [
    {
     "name": "stdout",
     "output_type": "stream",
     "text": [
      "Success\n"
     ]
    }
   ],
   "source": [
    "# URL del endpoint\n",
    "url = \"http://127.0.0.1:8000/new_transaction\"\n",
    "\n",
    "payload = json.dumps({\n",
    "  \"author\": \"David\",\n",
    "  \"content\": \"Pagos\"\n",
    "})\n",
    "headers = {\n",
    "  'Content-Type': 'application/json'\n",
    "}\n",
    "\n",
    "response = requests.request(\"POST\", url, headers=headers, data=payload)\n",
    "\n",
    "print(response.text)"
   ]
  },
  {
   "cell_type": "markdown",
   "metadata": {},
   "source": [
    "Ejemplo de request fallida por datos invalidos:"
   ]
  },
  {
   "cell_type": "code",
   "execution_count": 5,
   "metadata": {},
   "outputs": [
    {
     "name": "stdout",
     "output_type": "stream",
     "text": [
      "Invalid transaction\n"
     ]
    }
   ],
   "source": [
    "# URL del endpoint\n",
    "url = \"http://127.0.0.1:8000/new_transaction\"\n",
    "\n",
    "payload = json.dumps({\n",
    "  \"author\": \"David\",\n",
    "  # No required 'content' field\n",
    "})\n",
    "headers = {\n",
    "  'Content-Type': 'application/json'\n",
    "}\n",
    "\n",
    "response = requests.request(\"POST\", url, headers=headers, data=payload)\n",
    "\n",
    "print(response.text)"
   ]
  },
  {
   "cell_type": "markdown",
   "metadata": {},
   "source": [
    "### 1.7 Definición del API REST: Obtención de la cadena de bloques. \n",
    "En esta parte, hemos implementado un _endpoint_ para obtener la cadena de bloques la _Blockchain_."
   ]
  },
  {
   "cell_type": "code",
   "execution_count": 19,
   "metadata": {},
   "outputs": [
    {
     "name": "stdout",
     "output_type": "stream",
     "text": [
      "{\"length\": 2, \"chain\": [{\"index\": 0, \"transactions\": [], \"timestamp\": 1652383549.037355, \"previous_hash\": \"0\", \"nonce\": 0, \"current_hash\": \"be2fda09fe5db848e956e2cd05f44e5d5df89364272763097d13648302f5d76a\"}, {\"index\": 1, \"transactions\": [{\"author\": \"David\", \"content\": \"Pagos\", \"timestamp\": 1652383708.2247488}], \"timestamp\": 1652383717.07352, \"previous_hash\": \"be2fda09fe5db848e956e2cd05f44e5d5df89364272763097d13648302f5d76a\", \"nonce\": 4147, \"current_hash\": \"0004ec38c8a46ba4c50d0752d073e13f00677019d6e82dfe92743335ab71dca8\"}], \"peers\": [\"127.0.0.1:8002\"]}\n"
     ]
    }
   ],
   "source": [
    "url = \"http://127.0.0.1:8000/chain\"\n",
    "\n",
    "payload={}\n",
    "headers = {}\n",
    "\n",
    "response = requests.request(\"GET\", url, headers=headers, data=payload)\n",
    "\n",
    "print(response.text)"
   ]
  },
  {
   "cell_type": "markdown",
   "metadata": {},
   "source": [
    "En este caso, como no hemos añadido ningún otro nuevo bloque, observamos que solo contiene el bloque de genesis."
   ]
  },
  {
   "cell_type": "markdown",
   "metadata": {},
   "source": [
    "### Blockchain 1.8: Definición del API REST: Minado de transacciones.\n",
    "En este apartado se ha desarrollado un endpoint _/mine_ de tipo GET, de forma que al lanzar un petición contra esa nueva ruta, la API realiza un mineado de las transacciones pendientes de ser validadas."
   ]
  },
  {
   "cell_type": "code",
   "execution_count": 18,
   "metadata": {},
   "outputs": [
    {
     "name": "stdout",
     "output_type": "stream",
     "text": [
      "The index of the mining is 1\n"
     ]
    }
   ],
   "source": [
    "url = \"http://127.0.0.1:8000/mine\"\n",
    "\n",
    "payload={}\n",
    "headers = {}\n",
    "\n",
    "response = requests.request(\"GET\", url, headers=headers, data=payload)\n",
    "\n",
    "print(response.text)"
   ]
  },
  {
   "cell_type": "markdown",
   "metadata": {},
   "source": [
    "Si ahora ejecutamos el código del anterior apartado 1.7 vemos como se haincorporado un nuevo bloque a la cadena, que contiene las transacciones que estaban pendientes del punto 1.6."
   ]
  },
  {
   "cell_type": "markdown",
   "metadata": {},
   "source": [
    "### 1.9 Definición del API REST: Transacciones sin confirmar.\n",
    "Desarrollamos una nuevo endpoint para consultar las transacciones pendientes de ser minadas."
   ]
  },
  {
   "cell_type": "markdown",
   "metadata": {},
   "source": [
    "Primero generamos nuevas transacciones, de igual forma que antes:"
   ]
  },
  {
   "cell_type": "code",
   "execution_count": 13,
   "metadata": {},
   "outputs": [
    {
     "name": "stdout",
     "output_type": "stream",
     "text": [
      "Success\n"
     ]
    }
   ],
   "source": [
    "# URL del endpoint\n",
    "url = \"http://127.0.0.1:8000/new_transaction\"\n",
    "\n",
    "payload = json.dumps({\n",
    "  \"author\": \"Raul\",\n",
    "  \"content\": \"transaction#1\"\n",
    "})\n",
    "headers = {\n",
    "  'Content-Type': 'application/json'\n",
    "}\n",
    "\n",
    "response = requests.request(\"POST\", url, headers=headers, data=payload)\n",
    "\n",
    "print(response.text)"
   ]
  },
  {
   "cell_type": "markdown",
   "metadata": {},
   "source": [
    "Ahora lanzamos la request:"
   ]
  },
  {
   "cell_type": "code",
   "execution_count": 5,
   "metadata": {},
   "outputs": [
    {
     "name": "stdout",
     "output_type": "stream",
     "text": [
      "[]\n"
     ]
    }
   ],
   "source": [
    "url = \"http://127.0.0.1:8000/pending_transactions\"\n",
    "\n",
    "payload={}\n",
    "headers = {}\n",
    "\n",
    "response = requests.request(\"GET\", url, headers=headers, data=payload)\n",
    "\n",
    "print(response.text)"
   ]
  },
  {
   "cell_type": "markdown",
   "metadata": {},
   "source": [
    "Y como se puede comprobar, obtenemos los datos de la transacción enviada anteriormente."
   ]
  },
  {
   "cell_type": "markdown",
   "metadata": {},
   "source": [
    "### 1.10: Definición del API REST: Registro de nuevos nodos.\n",
    "En este aparatado se pretende expandir el sistema de Blockchain, hasta ahora en un único nodo, para implementar una red peer-to-peer."
   ]
  },
  {
   "cell_type": "markdown",
   "metadata": {},
   "source": [
    "En primer lugar, vamos a probar a registrar nuevos nodos a la red medinate el endpoint desarrollado _/register_new_node_. \n",
    "\n",
    "Un ejemplo de petición fallida (al no tener el campo \"new_node_address\"):"
   ]
  },
  {
   "cell_type": "code",
   "execution_count": 20,
   "metadata": {},
   "outputs": [
    {
     "name": "stdout",
     "output_type": "stream",
     "text": [
      "Invalid transaction\n"
     ]
    }
   ],
   "source": [
    "url = \"http://127.0.0.1:8000/register_new_node\"\n",
    "\n",
    "payload = json.dumps({\n",
    "})\n",
    "headers = {\n",
    "  'Content-Type': 'application/json'\n",
    "}\n",
    "\n",
    "response = requests.request(\"POST\", url, headers=headers, data=payload)\n",
    "\n",
    "print(response.text)"
   ]
  },
  {
   "cell_type": "markdown",
   "metadata": {},
   "source": [
    "Añadiendo el campo que faltaba, el resultado es exitoso, y ponemos comprobar como el campo peers contiene la dirección del nodo introducida."
   ]
  },
  {
   "cell_type": "code",
   "execution_count": 21,
   "metadata": {},
   "outputs": [
    {
     "name": "stdout",
     "output_type": "stream",
     "text": [
      "{\"length\": 2, \"chain\": [{\"index\": 0, \"transactions\": [], \"timestamp\": 1652383549.037355, \"previous_hash\": \"0\", \"nonce\": 0, \"current_hash\": \"be2fda09fe5db848e956e2cd05f44e5d5df89364272763097d13648302f5d76a\"}, {\"index\": 1, \"transactions\": [{\"author\": \"David\", \"content\": \"Pagos\", \"timestamp\": 1652383708.2247488}], \"timestamp\": 1652383717.07352, \"previous_hash\": \"be2fda09fe5db848e956e2cd05f44e5d5df89364272763097d13648302f5d76a\", \"nonce\": 4147, \"current_hash\": \"0004ec38c8a46ba4c50d0752d073e13f00677019d6e82dfe92743335ab71dca8\"}], \"peers\": [\"127.0.0.1:8002\"]}\n"
     ]
    }
   ],
   "source": [
    "url = \"http://127.0.0.1:8000/register_new_node\"\n",
    "\n",
    "payload = json.dumps({\n",
    "  \"new_node_address\": \"127.0.0.1:8002\"\n",
    "})\n",
    "headers = {\n",
    "  'Content-Type': 'application/json'\n",
    "}\n",
    "\n",
    "response = requests.request(\"POST\", url, headers=headers, data=payload)\n",
    "\n",
    "print(response.text)\n"
   ]
  },
  {
   "cell_type": "markdown",
   "metadata": {},
   "source": [
    "En segundo lugar, sometemos a prueba al endpoint desarrollado para registrar un node contra un nodo ya existente de la red _Blockchain_."
   ]
  },
  {
   "cell_type": "code",
   "execution_count": 22,
   "metadata": {},
   "outputs": [
    {
     "name": "stdout",
     "output_type": "stream",
     "text": [
      "{\"length\": 2, \"chain\": [{\"index\": 0, \"transactions\": [], \"timestamp\": 1652383549.037355, \"previous_hash\": \"0\", \"nonce\": 0, \"current_hash\": \"be2fda09fe5db848e956e2cd05f44e5d5df89364272763097d13648302f5d76a\"}, {\"index\": 1, \"transactions\": [{\"author\": \"David\", \"content\": \"Pagos\", \"timestamp\": 1652383708.2247488}], \"timestamp\": 1652383717.07352, \"previous_hash\": \"be2fda09fe5db848e956e2cd05f44e5d5df89364272763097d13648302f5d76a\", \"nonce\": 4147, \"current_hash\": \"0004ec38c8a46ba4c50d0752d073e13f00677019d6e82dfe92743335ab71dca8\"}], \"peers\": [\"127.0.0.1:8002\"]}\n"
     ]
    }
   ],
   "source": [
    "url = \"http://127.0.0.1:8000/register_with_existing_node\"\n",
    "\n",
    "payload = json.dumps({\n",
    "  \"node_address\": \"127.0.0.1:8002\"\n",
    "})\n",
    "headers = {\n",
    "  'Content-Type': 'application/json'\n",
    "}\n",
    "\n",
    "response = requests.request(\"POST\", url, headers=headers, data=payload)\n",
    "\n",
    "print(response.text)"
   ]
  },
  {
   "cell_type": "markdown",
   "metadata": {},
   "source": [
    "### 1.11: Definición del API REST: Definición de Mecanismo de Validación y Consenso.\n",
    "En esta sección hemos desarrollado un mecanismo de consenso en los nodos, que permite copiar la cadena más larga de la red _Blockchain_ en el nodo."
   ]
  },
  {
   "cell_type": "markdown",
   "metadata": {},
   "source": [
    "_Esta funcionalidad (def consensus) se prueba en el apartado 1.13_"
   ]
  },
  {
   "cell_type": "markdown",
   "metadata": {},
   "source": [
    "### 1.12: Definición del API REST: Propagación de información de minado. \n",
    "En este caso hemos implementado un funcionalidad que permite a un nodo difundir en la red un aviso para que los demás nodos actualizen sus cadenas de bloques."
   ]
  },
  {
   "cell_type": "markdown",
   "metadata": {},
   "source": [
    "_El endpoint /add_block y la función announce_new_block se prueba en el apartado 1.13_"
   ]
  },
  {
   "cell_type": "markdown",
   "metadata": {},
   "source": [
    "### 1.13: Definición del API REST: Actualizar ruta de minado.\n",
    "Por último, en este apartado final se ha sometido a prueba toda la funcionalidad desarrollada. "
   ]
  },
  {
   "cell_type": "markdown",
   "metadata": {},
   "source": [
    "Primero generamos una serie de transacciones:"
   ]
  },
  {
   "cell_type": "code",
   "execution_count": 2,
   "metadata": {},
   "outputs": [
    {
     "name": "stdout",
     "output_type": "stream",
     "text": [
      "Success\n"
     ]
    }
   ],
   "source": [
    "url = \"http://127.0.0.1:8000/new_transaction\"\n",
    "\n",
    "payload = json.dumps({\n",
    "  \"author\": \"Raul\",\n",
    "  \"content\": \"Paga 10 euros a David\"\n",
    "})\n",
    "headers = {\n",
    "  'Content-Type': 'application/json'\n",
    "}\n",
    "response = requests.request(\"POST\", url, headers=headers, data=payload)\n",
    "\n",
    "print(response.text)"
   ]
  },
  {
   "cell_type": "code",
   "execution_count": 3,
   "metadata": {},
   "outputs": [
    {
     "name": "stdout",
     "output_type": "stream",
     "text": [
      "Success\n"
     ]
    }
   ],
   "source": [
    "url = \"http://127.0.0.1:8000/new_transaction\"\n",
    "\n",
    "payload = json.dumps({\n",
    "  \"author\": \"David\",\n",
    "  \"content\": \"Devuelve 10 euros a Raul\"\n",
    "})\n",
    "headers = {\n",
    "  'Content-Type': 'application/json'\n",
    "}\n",
    "response = requests.request(\"POST\", url, headers=headers, data=payload)\n",
    "\n",
    "print(response.text)"
   ]
  },
  {
   "cell_type": "markdown",
   "metadata": {},
   "source": [
    "Consultamos el estado de las transacciones pendientes. Aparecen las dos enviadas anteriormente."
   ]
  },
  {
   "cell_type": "code",
   "execution_count": 4,
   "metadata": {},
   "outputs": [
    {
     "name": "stdout",
     "output_type": "stream",
     "text": [
      "[{'author': 'Raul', 'content': 'Paga 10 euros a David', 'timestamp': 1652446630.0881674}, {'author': 'David', 'content': 'Devuelve 10 euros a Raul', 'timestamp': 1652446632.6397343}]\n"
     ]
    }
   ],
   "source": [
    "url = \"http://127.0.0.1:8000/pending_transactions\"\n",
    "\n",
    "payload={}\n",
    "headers = {}\n",
    "\n",
    "response = requests.request(\"GET\", url, headers=headers, data=payload)\n",
    "\n",
    "print(response.text)"
   ]
  },
  {
   "cell_type": "markdown",
   "metadata": {},
   "source": [
    "Ahora realizamos un minado."
   ]
  },
  {
   "cell_type": "code",
   "execution_count": 5,
   "metadata": {},
   "outputs": [
    {
     "name": "stdout",
     "output_type": "stream",
     "text": [
      "Block #1 was mined sucessfully\n"
     ]
    }
   ],
   "source": [
    "url = \"http://127.0.0.1:8000/mine\"\n",
    "\n",
    "payload={}\n",
    "headers = {}\n",
    "\n",
    "response = requests.request(\"GET\", url, headers=headers, data=payload)\n",
    "\n",
    "print(response.text)"
   ]
  },
  {
   "cell_type": "markdown",
   "metadata": {},
   "source": [
    "Comprobamos que las transacciones se han incorporado a la cadena."
   ]
  },
  {
   "cell_type": "code",
   "execution_count": 12,
   "metadata": {},
   "outputs": [
    {
     "name": "stdout",
     "output_type": "stream",
     "text": [
      "{\"length\": 2, \"chain\": [{\"index\": 0, \"transactions\": [], \"timestamp\": 1652446611.6423695, \"previous_hash\": \"0\", \"nonce\": 0, \"current_hash\": \"4efddcb7eaed20a030a292325f5b86656d733f7e3baa2ee065288ea1a9e1e57b\"}, {\"index\": 1, \"transactions\": [{\"author\": \"Raul\", \"content\": \"Paga 10 euros a David\", \"timestamp\": 1652446630.0881674}, {\"author\": \"David\", \"content\": \"Devuelve 10 euros a Raul\", \"timestamp\": 1652446632.6397343}], \"timestamp\": 1652446636.3305633, \"previous_hash\": \"4efddcb7eaed20a030a292325f5b86656d733f7e3baa2ee065288ea1a9e1e57b\", \"nonce\": 5220, \"current_hash\": \"000da22414f90173b8f1575a1327ff028b486607ce00fc8487253acf9ceee296\"}], \"peers\": [\"127.0.0.1:8002\"]}\n"
     ]
    }
   ],
   "source": [
    "url = \"http://127.0.0.1:8000/chain\"\n",
    "\n",
    "payload={}\n",
    "headers = {}\n",
    "\n",
    "response_chain_8000 = requests.request(\"GET\", url, headers=headers, data=payload)\n",
    "\n",
    "print(response_chain_8000.text)"
   ]
  },
  {
   "cell_type": "markdown",
   "metadata": {},
   "source": [
    "**¡IMPORTANTE!** Se debe ejecutar la primera célula del cuaderno **extra_node.ipynb** para levantar un nodo extra de la red."
   ]
  },
  {
   "cell_type": "markdown",
   "metadata": {},
   "source": [
    "Una vez levantado el nodo, comprobamos la _blockchain_ del mismo."
   ]
  },
  {
   "cell_type": "code",
   "execution_count": 13,
   "metadata": {},
   "outputs": [
    {
     "name": "stdout",
     "output_type": "stream",
     "text": [
      "{\"length\": 2, \"chain\": [{\"index\": 0, \"transactions\": [], \"timestamp\": 1652446611.6423695, \"previous_hash\": \"0\", \"nonce\": 0, \"current_hash\": \"4efddcb7eaed20a030a292325f5b86656d733f7e3baa2ee065288ea1a9e1e57b\"}, {\"index\": 1, \"transactions\": [{\"author\": \"Raul\", \"content\": \"Paga 10 euros a David\", \"timestamp\": 1652446630.0881674}, {\"author\": \"David\", \"content\": \"Devuelve 10 euros a Raul\", \"timestamp\": 1652446632.6397343}], \"timestamp\": 1652446636.3305633, \"previous_hash\": \"4efddcb7eaed20a030a292325f5b86656d733f7e3baa2ee065288ea1a9e1e57b\", \"nonce\": 5220, \"current_hash\": \"000da22414f90173b8f1575a1327ff028b486607ce00fc8487253acf9ceee296\"}], \"peers\": [\"127.0.0.1:8002\"]}\n"
     ]
    }
   ],
   "source": [
    "url = \"http://127.0.0.1:8002/chain\"\n",
    "\n",
    "payload={}\n",
    "headers = {}\n",
    "\n",
    "response = requests.request(\"GET\", url, headers=headers, data=payload)\n",
    "\n",
    "print(response.text)"
   ]
  },
  {
   "cell_type": "markdown",
   "metadata": {},
   "source": [
    "Como era de esperar el nodo únicamente posee el bloque de genesis, por lo que se encuentra desactualizado. Para actualizarlo, lo registramos usando el primer nodo."
   ]
  },
  {
   "cell_type": "code",
   "execution_count": 8,
   "metadata": {},
   "outputs": [
    {
     "name": "stdout",
     "output_type": "stream",
     "text": [
      "Registration successful\n"
     ]
    }
   ],
   "source": [
    "url = \"http://127.0.0.1:8002/register_with_existing_node\"\n",
    "\n",
    "payload = json.dumps({\n",
    "  \"node_address\": \"127.0.0.1:8000\"\n",
    "})\n",
    "headers = {\n",
    "  'Content-Type': 'application/json'\n",
    "}\n",
    "\n",
    "response = requests.request(\"POST\", url, headers=headers, data=payload)\n",
    "\n",
    "print(response.text)"
   ]
  },
  {
   "cell_type": "markdown",
   "metadata": {},
   "source": [
    "Comprobamos que la cadena se ha actualizado correctamente."
   ]
  },
  {
   "cell_type": "code",
   "execution_count": 14,
   "metadata": {},
   "outputs": [
    {
     "name": "stdout",
     "output_type": "stream",
     "text": [
      "{\"length\": 2, \"chain\": [{\"index\": 0, \"transactions\": [], \"timestamp\": 1652446611.6423695, \"previous_hash\": \"0\", \"nonce\": 0, \"current_hash\": \"4efddcb7eaed20a030a292325f5b86656d733f7e3baa2ee065288ea1a9e1e57b\"}, {\"index\": 1, \"transactions\": [{\"author\": \"Raul\", \"content\": \"Paga 10 euros a David\", \"timestamp\": 1652446630.0881674}, {\"author\": \"David\", \"content\": \"Devuelve 10 euros a Raul\", \"timestamp\": 1652446632.6397343}], \"timestamp\": 1652446636.3305633, \"previous_hash\": \"4efddcb7eaed20a030a292325f5b86656d733f7e3baa2ee065288ea1a9e1e57b\", \"nonce\": 5220, \"current_hash\": \"000da22414f90173b8f1575a1327ff028b486607ce00fc8487253acf9ceee296\"}], \"peers\": [\"127.0.0.1:8002\"]}\n"
     ]
    }
   ],
   "source": [
    "url = \"http://127.0.0.1:8002/chain\"\n",
    "\n",
    "payload={}\n",
    "headers = {}\n",
    "\n",
    "response_chain_8002 = requests.request(\"GET\", url, headers=headers, data=payload)\n",
    "\n",
    "print(response_chain_8002.text)"
   ]
  },
  {
   "cell_type": "markdown",
   "metadata": {},
   "source": [
    "Efectivamente la cadena ahora se encuentra actualizada."
   ]
  },
  {
   "cell_type": "code",
   "execution_count": 16,
   "metadata": {},
   "outputs": [
    {
     "name": "stdout",
     "output_type": "stream",
     "text": [
      "¿Son la misma cadena? True\n"
     ]
    }
   ],
   "source": [
    "print(f\"¿Son la misma cadena? {response_chain_8000.text == response_chain_8002.text}\")"
   ]
  }
 ],
 "metadata": {
  "interpreter": {
   "hash": "360d2ec9e4dfd6b1878fd3e8a755d824822ee15ddf61adb86e60331f847457cf"
  },
  "kernelspec": {
   "display_name": "Python 3.9.7 ('SSDD')",
   "language": "python",
   "name": "python3"
  },
  "language_info": {
   "codemirror_mode": {
    "name": "ipython",
    "version": 3
   },
   "file_extension": ".py",
   "mimetype": "text/x-python",
   "name": "python",
   "nbconvert_exporter": "python",
   "pygments_lexer": "ipython3",
   "version": "3.9.7"
  },
  "orig_nbformat": 4
 },
 "nbformat": 4,
 "nbformat_minor": 2
}
