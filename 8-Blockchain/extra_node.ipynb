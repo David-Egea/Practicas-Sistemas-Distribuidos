{
 "cells": [
  {
   "cell_type": "markdown",
   "metadata": {},
   "source": [
    "### Nodo extra para realizar pruebas.\n",
    "Este cuaderno se debe emplear en el momento en el que se indica en la guía del **_api.ipynb_**, concretamente en el apartado 1.13."
   ]
  },
  {
   "cell_type": "markdown",
   "metadata": {},
   "source": [
    "Levantamos una API en el puerto 8002 del localhost."
   ]
  },
  {
   "cell_type": "code",
   "execution_count": 1,
   "metadata": {},
   "outputs": [
    {
     "name": "stdout",
     "output_type": "stream",
     "text": [
      " * Serving Flask app 'API' (lazy loading)\n",
      " * Environment: production\n",
      "\u001b[31m   WARNING: This is a development server. Do not use it in a production deployment.\u001b[0m\n",
      "\u001b[2m   Use a production WSGI server instead.\u001b[0m\n",
      " * Debug mode: off\n"
     ]
    },
    {
     "name": "stderr",
     "output_type": "stream",
     "text": [
      " * Running on http://127.0.0.1:8002/ (Press CTRL+C to quit)\n",
      "127.0.0.1 - - [13/May/2022 14:57:21] \"GET /chain HTTP/1.1\" 201 -\n",
      "127.0.0.1 - - [13/May/2022 14:57:25] \"POST /register_with_existing_node HTTP/1.1\" 200 -\n",
      "127.0.0.1 - - [13/May/2022 14:57:29] \"GET /chain HTTP/1.1\" 201 -\n",
      "127.0.0.1 - - [13/May/2022 14:59:05] \"GET /chain HTTP/1.1\" 201 -\n",
      "127.0.0.1 - - [13/May/2022 14:59:24] \"GET /chain HTTP/1.1\" 201 -\n",
      "127.0.0.1 - - [13/May/2022 14:59:30] \"GET /chain HTTP/1.1\" 201 -\n"
     ]
    }
   ],
   "source": [
    "import API\n",
    "\n",
    "# Levantamos la app (localhost y puerto 8002)\n",
    "API.app.run(host='127.0.0.1',port=8002,debug=False)"
   ]
  }
 ],
 "metadata": {
  "interpreter": {
   "hash": "360d2ec9e4dfd6b1878fd3e8a755d824822ee15ddf61adb86e60331f847457cf"
  },
  "kernelspec": {
   "display_name": "Python 3.9.7 ('SSDD')",
   "language": "python",
   "name": "python3"
  },
  "language_info": {
   "codemirror_mode": {
    "name": "ipython",
    "version": 3
   },
   "file_extension": ".py",
   "mimetype": "text/x-python",
   "name": "python",
   "nbconvert_exporter": "python",
   "pygments_lexer": "ipython3",
   "version": "3.9.7"
  },
  "orig_nbformat": 4
 },
 "nbformat": 4,
 "nbformat_minor": 2
}
