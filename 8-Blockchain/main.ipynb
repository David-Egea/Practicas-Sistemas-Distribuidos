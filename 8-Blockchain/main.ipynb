{
 "cells": [
  {
   "cell_type": "markdown",
   "metadata": {},
   "source": [
    "# PRACTICA 8. BLOCKCHAIN\n",
    "\n",
    "### Objetivos:\n",
    "* Declaración de objetos _block_ que se asemejan a los bloques de una red blockchain.\n",
    "* Creación de una blockchain de objetos _block_.\n",
    "* Desplegar  una  red  Blockchain  real  que  permita  registrar  y  minar  transacciones\n",
    "* Ampliar la red añadiendo nuevos nodos "
   ]
  },
  {
   "cell_type": "markdown",
   "metadata": {},
   "source": [
    "### 1.1: Definición del objeto Bloque(_block_).\n",
    "\n",
    "La clase desarrollada se encuentra en el archivo **block.py**"
   ]
  },
  {
   "cell_type": "code",
   "execution_count": 1,
   "metadata": {},
   "outputs": [
    {
     "name": "stdout",
     "output_type": "stream",
     "text": [
      "El hash del bloque creado es: ff4ab806038c85473a76cc1f9e7949f098ba5599a6196cf28b7216a087780903\n",
      "\n",
      "Son los hashs iguales? False\n",
      "Bloque1: ff4ab806038c85473a76cc1f9e7949f098ba5599a6196cf28b7216a087780903\n",
      "Bloque2: 189ac93a681b2d2982d5a89500585757a77590d319eddf141275853614b4d1b9\n"
     ]
    }
   ],
   "source": [
    "from block import Block\n",
    "\n",
    "# Se crea una instancia bloque\n",
    "block = Block(0,[],10.0,\"\")\n",
    "# Se calcula el hash del mismo\n",
    "hash = block.compute_hash()\n",
    "print(f\"El hash del bloque creado es: {hash}\\n\")\n",
    "\n",
    "# Creamos otra instancia bloque (con el index distinto) \n",
    "block2 = Block(1,[],10.0,\"\")\n",
    "hash2 = block2.compute_hash()\n",
    "# Comprobamos que los hashed de ambos bloques son muy distintos\n",
    "print(f\"Son los hashs iguales? {hash == hash2}\")\n",
    "print(f\"Bloque1: {hash}\")\n",
    "print(f\"Bloque2: {hash2}\")"
   ]
  },
  {
   "cell_type": "markdown",
   "metadata": {},
   "source": [
    "### 1.2: Definición del objeto blockchain(_Blockchain_)  \n",
    "La clase desarrollada se encuentra en el archivo **blockchain.py**"
   ]
  },
  {
   "cell_type": "code",
   "execution_count": 7,
   "metadata": {},
   "outputs": [
    {
     "name": "stdout",
     "output_type": "stream",
     "text": [
      "El último bloque de la cadena, es en este caso, el de genesis: \n",
      "{'index': 0, 'transactions': [], 'timestamp': 1652289154.6945038, 'previous_hash': '0', 'nonce': 0, 'current_hash': '45e1699586bdcaa8f9f4b90c78e1418041d3bc87baf72280cab318fd0dc6f4aa'}\n"
     ]
    }
   ],
   "source": [
    "from blockchain import Blockchain\n",
    "\n",
    "# Se crea una instancia de Blockchain\n",
    "blockchain = Blockchain()\n",
    "# Probamos a mostrar el último bloque de la blockchain\n",
    "blockchain.create_genesisBlock()\n",
    "genesis = blockchain.last_block\n",
    "print(f\"El último bloque de la blockchain, es en este caso, el de genesis: \\n{genesis.__dict__}\")"
   ]
  },
  {
   "cell_type": "markdown",
   "metadata": {},
   "source": [
    "### 1.3: Definición del Proof‐Of‐Work\n",
    "Se ha añadido la dificultad de encontrar un hash _válido_. Un hash es _válido_ si comienza por el número de ceros correspondiente a la dificultad establecida en la _Blockchain_.\n",
    "\n",
    "blockchain de dificultad 3:"
   ]
  },
  {
   "cell_type": "code",
   "execution_count": 27,
   "metadata": {},
   "outputs": [
    {
     "name": "stdout",
     "output_type": "stream",
     "text": [
      "Blockchain dificultad 1:\n",
      "----------------------------------------------------\n",
      "El hash válido del bloque: 010b448fd70279cd4971e519b4c8f9e7ad6c0af000304fd730c8f7ade0aee24a\n",
      "\n",
      "El valor de nonce necesario: 6\n",
      "El tiempo transcurrido: 0.0 (s)\n",
      "----------------------------------------------------\n",
      "\n",
      "Blockchain dificultad 3:\n",
      "----------------------------------------------------\n",
      "El hash válido del bloque: 0003ea83b263a6c399d168677b2f0ceae3b62dd0f1dabe2e09f4cdbaab170964\n",
      "\n",
      "El valor de nonce necesario: 4236\n",
      "El tiempo transcurrido: 0.028342247009277344 (s)\n",
      "----------------------------------------------------\n",
      "\n",
      "Blockchain dificultad 5:\n",
      "----------------------------------------------------\n",
      "El hash válido del bloque: 00000f8c8f60e3e80b028c8316012a21a6125d7f54524544fba07c17565555da\n",
      "\n",
      "El valor de nonce necesario: 1087167\n",
      "El tiempo transcurrido: 8.027408361434937 (s)\n",
      "----------------------------------------------------\n",
      "\n"
     ]
    },
    {
     "data": {
      "text/plain": [
       "[<matplotlib.lines.Line2D at 0x2286d5b7340>]"
      ]
     },
     "execution_count": 27,
     "metadata": {},
     "output_type": "execute_result"
    },
    {
     "data": {
      "image/png": "[encoded data removed]",
      "text/plain": [
       "<Figure size 432x288 with 1 Axes>"
      ]
     },
     "metadata": {
      "needs_background": "light"
     },
     "output_type": "display_data"
    }
   ],
   "source": [
    "from block import Block\n",
    "from blockchain import Blockchain\n",
    "from time import time\n",
    "\n",
    "# Se crea una blockchain con difficultad 3\n",
    "blockchain1 = Blockchain(difficulty=1)\n",
    "\n",
    "# Generamos el bloque de genesis para la blockchain\n",
    "blockchain1.create_genesisBlock()\n",
    "\n",
    "# Creamos un nuevo bloque para la blockchain\n",
    "block1 = Block(blockchain1.last_block.index,[],time(),blockchain1.last_block.current_hash)\n",
    "\n",
    "# BLOCKCHAIN 1\n",
    "print(f\"Blockchain dificultad {blockchain1.difficulty}:\")\n",
    "print(\"----------------------------------------------------\")\n",
    "start = time()\n",
    "# Se pone a trabajar para encontrar un hash valido para el bloque\n",
    "blockchain1.proof_of_work(block1)\n",
    "end = time()\n",
    "time1 = end - start # Tiempo transcurrido\n",
    "print(f\"El hash válido del bloque: {block1.compute_hash()}\\n\")\n",
    "print(f\"El valor de nonce necesario: {block1.nonce}\")\n",
    "print(f\"El tiempo transcurrido: {time1} (s)\")\n",
    "print(\"----------------------------------------------------\\n\")"
   ]
  },
  {
   "cell_type": "markdown",
   "metadata": {},
   "source": [
    "Para probar el correcto funcionamiento de esta nueva implementación, realizamos un experimento con varias cadenas de distinta dificultad:"
   ]
  },
  {
   "cell_type": "code",
   "execution_count": 42,
   "metadata": {},
   "outputs": [
    {
     "name": "stdout",
     "output_type": "stream",
     "text": [
      "Blockchain dificultad 0:\n",
      "----------------------------------------------------\n",
      "El hash válido del bloque: 4884c5baa4c06958f6f3c219ad0dd74837e8578749b027dfeaa0352e68db2ea7\n",
      "El valor de nonce necesario: 0\n",
      "----------------------------------------------------\n",
      "Blockchain dificultad 1:\n",
      "----------------------------------------------------\n",
      "El hash válido del bloque: 0ee15d043adfd903d830efab6aa769e54a4cc305b417413f6bd84f1e4c7928cb\n",
      "El valor de nonce necesario: 2\n",
      "----------------------------------------------------\n",
      "Blockchain dificultad 2:\n",
      "----------------------------------------------------\n",
      "El hash válido del bloque: 00975db5347dd93f447d606096afa24b4cdd777c6d533af14b8933a5a8c091f6\n",
      "El valor de nonce necesario: 341\n",
      "----------------------------------------------------\n",
      "Blockchain dificultad 3:\n",
      "----------------------------------------------------\n",
      "El hash válido del bloque: 000eca02fe10316671da2cc4cfc8fd3cfda817d9b48f75397f6421895c9f29a6\n",
      "El valor de nonce necesario: 1542\n",
      "----------------------------------------------------\n",
      "Blockchain dificultad 4:\n",
      "----------------------------------------------------\n",
      "El hash válido del bloque: 0000062f664e325a983a6e9e0cf43ebe2ca1f92897f3fd916d99625ae4bc97d1\n",
      "El valor de nonce necesario: 104043\n",
      "----------------------------------------------------\n",
      "Blockchain dificultad 5:\n",
      "----------------------------------------------------\n",
      "El hash válido del bloque: 000001a0fd0102463650f40de81cd98f7f3895f169d572999fa9a8eadf59559c\n",
      "El valor de nonce necesario: 587817\n",
      "----------------------------------------------------\n"
     ]
    }
   ],
   "source": [
    "\n",
    "# Se crean nuevas blockchain\n",
    "blockchains = []\n",
    "difficulties = range(0,6)\n",
    "for i in difficulties:\n",
    "    blockchains.append(Blockchain(difficulty=i)) # difficultad variable\n",
    "\n",
    "# Generamos el bloque de genesis para cada blockchain\n",
    "for blockchain in blockchains:\n",
    "    blockchain.create_genesisBlock()\n",
    "\n",
    "times = [] # Para los tiempos de ejecucion\n",
    "for blockchain in blockchains:\n",
    "    # Creamos un nuevo bloque para cada blockchain\n",
    "    block = Block(blockchain.last_block.index,[],time(),blockchain.last_block.current_hash)\n",
    "    print(f\"Blockchain dificultad {blockchain.difficulty}:\")\n",
    "    print(\"----------------------------------------------------\")\n",
    "    start = time()\n",
    "    # Se pone a trabajar para encontrar un hash valido para el bloque\n",
    "    blockchain.proof_of_work(block)\n",
    "    end = time()\n",
    "    time_elapsed = end - start\n",
    "    times.append(time_elapsed) # Tiempo transcurrido\n",
    "    print(f\"El hash válido del bloque: {block.compute_hash()}\")\n",
    "    print(f\"El valor de nonce necesario: {block.nonce}\")\n",
    "    print(\"----------------------------------------------------\")"
   ]
  },
  {
   "cell_type": "markdown",
   "metadata": {},
   "source": [
    "Representamos en una gráfica los tiempos de trabajo obtenidos para las distintas blockchain. Como era de esperar, se puede deducir que a mayor dificultad mayor tiempo de ejecución."
   ]
  },
  {
   "cell_type": "code",
   "execution_count": 47,
   "metadata": {},
   "outputs": [
    {
     "data": {
      "text/plain": [
       "Text(0, 0.5, 'Tiempo (s)')"
      ]
     },
     "execution_count": 47,
     "metadata": {},
     "output_type": "execute_result"
    },
    {
     "data": {
      "image/png": "[encoded data removed]",
      "text/plain": [
       "<Figure size 432x288 with 1 Axes>"
      ]
     },
     "metadata": {
      "needs_background": "light"
     },
     "output_type": "display_data"
    }
   ],
   "source": [
    "import matplotlib.pyplot as plt\n",
    "\n",
    "# Se muestra en una gráfica los tiempos de procesado\n",
    "plt.plot(difficulties,times,\"ro--\")\n",
    "plt.xlabel(\"Difficultad\")\n",
    "plt.ylabel(\"Tiempo (s)\")"
   ]
  }
 ],
 "metadata": {
  "interpreter": {
   "hash": "360d2ec9e4dfd6b1878fd3e8a755d824822ee15ddf61adb86e60331f847457cf"
  },
  "kernelspec": {
   "display_name": "Python 3.9.7 ('SSDD')",
   "language": "python",
   "name": "python3"
  },
  "language_info": {
   "codemirror_mode": {
    "name": "ipython",
    "version": 3
   },
   "file_extension": ".py",
   "mimetype": "text/x-python",
   "name": "python",
   "nbconvert_exporter": "python",
   "pygments_lexer": "ipython3",
   "version": "3.9.7"
  },
  "orig_nbformat": 4
 },
 "nbformat": 4,
 "nbformat_minor": 2
}
