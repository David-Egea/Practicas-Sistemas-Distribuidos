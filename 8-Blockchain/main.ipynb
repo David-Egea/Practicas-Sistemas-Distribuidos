{
 "cells": [
  {
   "cell_type": "markdown",
   "metadata": {},
   "source": [
    "# PRACTICA 8. BLOCKCHAIN\n",
    "\n",
    "### Objetivos:\n",
    "* Declaración de objetos _block_ que se asemejan a los bloques de una red blockchain.\n",
    "* Creación de una blockchain de objetos _block_.\n",
    "* Desplegar  una  red  Blockchain  real  que  permita  registrar  y  minar  transacciones\n",
    "* Ampliar la red añadiendo nuevos nodos "
   ]
  },
  {
   "cell_type": "markdown",
   "metadata": {},
   "source": [
    "### 1.1: Definición del objeto Bloque(_block_).\n",
    "\n",
    "La clase desarrollada se encuentra en el archivo **block.py**"
   ]
  },
  {
   "cell_type": "code",
   "execution_count": 85,
   "metadata": {},
   "outputs": [
    {
     "name": "stdout",
     "output_type": "stream",
     "text": [
      "El hash del bloque creado es: fdaf7302ca5189620b939114739a75ebc27befc760dc2f3d39a3d855609caaa0\n",
      "\n",
      "Son los hashs iguales? False\n",
      "Bloque1: fdaf7302ca5189620b939114739a75ebc27befc760dc2f3d39a3d855609caaa0\n",
      "Bloque2: 1877a6f3faa3e909f14885d9fe51c413fc5638bd38942f49e21cc5972fb4b959\n"
     ]
    }
   ],
   "source": [
    "from block import Block\n",
    "\n",
    "# Se crea una instancia bloque\n",
    "block = Block(0,[],10.0,\"\")\n",
    "# Se calcula el hash del mismo\n",
    "hash = block.compute_hash()\n",
    "print(f\"El hash del bloque creado es: {hash}\\n\")\n",
    "\n",
    "# Creamos otra instancia bloque (con el index distinto) \n",
    "block2 = Block(1,[],10.0,\"\")\n",
    "hash2 = block2.compute_hash()\n",
    "# Comprobamos que los hashed de ambos bloques son muy distintos\n",
    "print(f\"Son los hashs iguales? {hash == hash2}\")\n",
    "print(f\"Bloque1: {hash}\")\n",
    "print(f\"Bloque2: {hash2}\")"
   ]
  },
  {
   "cell_type": "markdown",
   "metadata": {},
   "source": [
    "### 1.2: Definición del objeto blockchain(_Blockchain_)  \n",
    "La clase desarrollada se encuentra en el archivo **blockchain.py**"
   ]
  },
  {
   "cell_type": "code",
   "execution_count": 86,
   "metadata": {},
   "outputs": [
    {
     "name": "stdout",
     "output_type": "stream",
     "text": [
      "El último bloque de la blockchain, es en este caso, el de genesis: \n",
      "{'index': 0, 'transactions': [], 'timestamp': 1652355591.815919, 'previous_hash': '0', 'nonce': 0, 'current_hash': '429ffcdc7ac78d8be376216a03f6bd9f16e005969a299b97b7f1fce697e19d9c'}\n"
     ]
    }
   ],
   "source": [
    "from blockchain import Blockchain\n",
    "\n",
    "# Se crea una instancia de Blockchain\n",
    "blockchain = Blockchain()\n",
    "# Probamos a mostrar el último bloque de la blockchain\n",
    "blockchain.create_genesisBlock()\n",
    "genesis = blockchain.last_block\n",
    "print(f\"El último bloque de la blockchain, es en este caso, el de genesis: \\n{genesis.__dict__}\")"
   ]
  },
  {
   "cell_type": "markdown",
   "metadata": {},
   "source": [
    "### 1.3: Definición del Proof‐Of‐Work\n",
    "Se ha añadido la dificultad de encontrar un hash _válido_. Un hash es _válido_ si comienza por el número de ceros correspondiente a la dificultad establecida en la _Blockchain_.\n",
    "\n",
    "blockchain de dificultad 3:"
   ]
  },
  {
   "cell_type": "code",
   "execution_count": 87,
   "metadata": {},
   "outputs": [
    {
     "name": "stdout",
     "output_type": "stream",
     "text": [
      "Blockchain dificultad 1:\n",
      "El hash válido del bloque: 06fbec596aec179d027d9ca71fae8f80d01311c5482e9b5be90d635ad25bdf48\n",
      "\n",
      "El valor de nonce necesario: 4\n",
      "El tiempo transcurrido: 0.0 (s)\n"
     ]
    }
   ],
   "source": [
    "from block import Block\n",
    "from blockchain import Blockchain\n",
    "from time import time\n",
    "\n",
    "# Se crea una blockchain con difficultad 3\n",
    "blockchain1 = Blockchain(difficulty=1)\n",
    "\n",
    "# Creamos un nuevo bloque para la blockchain\n",
    "block1 = Block(blockchain1.last_block.index,[],time(),blockchain1.last_block.current_hash)\n",
    "\n",
    "# BLOCKCHAIN 1\n",
    "print(f\"Blockchain dificultad {blockchain1.difficulty}:\")\n",
    "start = time()\n",
    "# Se pone a trabajar para encontrar un hash valido para el bloque\n",
    "blockchain1.proof_of_work(block1)\n",
    "end = time()\n",
    "time1 = end - start # Tiempo transcurrido\n",
    "print(f\"El hash válido del bloque: {block1.compute_hash()}\\n\")\n",
    "print(f\"El valor de nonce necesario: {block1.nonce}\")\n",
    "print(f\"El tiempo transcurrido: {time1} (s)\")"
   ]
  },
  {
   "cell_type": "markdown",
   "metadata": {},
   "source": [
    "Para probar el correcto funcionamiento de esta nueva implementación, realizamos un experimento con varias cadenas de distinta dificultad:"
   ]
  },
  {
   "cell_type": "code",
   "execution_count": 91,
   "metadata": {},
   "outputs": [
    {
     "name": "stdout",
     "output_type": "stream",
     "text": [
      "Blockchain dificultad 0:\n",
      "El hash válido del bloque: a2ea58b4990e71bb965e68846083806a2f9bf7c6a24b9690176d1c4bf5530d46\n",
      "El valor de nonce necesario: 0\n",
      "----------------------------------------------------\n",
      "Blockchain dificultad 1:\n",
      "El hash válido del bloque: 08cfa4a816e8fb6142766cc281c7ef51e80e2aa4c9ad2b331960c830444d999a\n",
      "El valor de nonce necesario: 6\n",
      "----------------------------------------------------\n",
      "Blockchain dificultad 2:\n",
      "El hash válido del bloque: 00496a53fa404f7aa5a9063917779a4f503462e11786d99cf65f75028f0644c0\n",
      "El valor de nonce necesario: 119\n",
      "----------------------------------------------------\n",
      "Blockchain dificultad 3:\n",
      "El hash válido del bloque: 000d25b7caccb1027ae6293e8e66cf4e80c02934edabe5a7a3de3c614b59862d\n",
      "El valor de nonce necesario: 3745\n",
      "----------------------------------------------------\n",
      "Blockchain dificultad 4:\n",
      "El hash válido del bloque: 0000a46b0605ccac7334299cd071af69e0ab8c2188e9b587a2388b5304da6fac\n",
      "El valor de nonce necesario: 33587\n",
      "----------------------------------------------------\n",
      "Blockchain dificultad 5:\n",
      "El hash válido del bloque: 0000051f47fb95f05af80fe4d62c95c0de7f17368b5bcd58fa92ad7bf082442f\n",
      "El valor de nonce necesario: 931563\n",
      "----------------------------------------------------\n"
     ]
    }
   ],
   "source": [
    "\n",
    "# Se crean nuevas blockchain\n",
    "blockchains = []\n",
    "difficulties = range(0,6)\n",
    "for i in difficulties:\n",
    "    blockchains.append(Blockchain(difficulty=i)) # difficultad variable\n",
    "\n",
    "times = [] # Para los tiempos de ejecucion\n",
    "for blockchain in blockchains:\n",
    "    # Creamos un nuevo bloque para cada blockchain\n",
    "    block = Block(blockchain.last_block.index,[],time(),blockchain.last_block.current_hash)\n",
    "    print(f\"Blockchain dificultad {blockchain.difficulty}:\")\n",
    "    start = time()\n",
    "    # Se pone a trabajar para encontrar un hash valido para el bloque\n",
    "    blockchain.proof_of_work(block)\n",
    "    end = time()\n",
    "    time_elapsed = end - start\n",
    "    times.append(time_elapsed) # Tiempo transcurrido\n",
    "    print(f\"El hash válido del bloque: {block.compute_hash()}\")\n",
    "    print(f\"El valor de nonce necesario: {block.nonce}\")\n",
    "    print(\"----------------------------------------------------\")"
   ]
  },
  {
   "cell_type": "markdown",
   "metadata": {},
   "source": [
    "Representamos en una gráfica los tiempos de trabajo obtenidos para las distintas blockchain. Como era de esperar, se puede deducir que a mayor dificultad mayor tiempo de ejecución."
   ]
  },
  {
   "cell_type": "code",
   "execution_count": 92,
   "metadata": {},
   "outputs": [
    {
     "data": {
      "text/plain": [
       "Text(0, 0.5, 'Tiempo (s)')"
      ]
     },
     "execution_count": 92,
     "metadata": {},
     "output_type": "execute_result"
    },
    {
     "data": {
      "image/png": "[encoded data removed]",
      "text/plain": [
       "<Figure size 432x288 with 1 Axes>"
      ]
     },
     "metadata": {
      "needs_background": "light"
     },
     "output_type": "display_data"
    }
   ],
   "source": [
    "import matplotlib.pyplot as plt\n",
    "\n",
    "# Se muestra en una gráfica los tiempos de procesado\n",
    "plt.plot(difficulties,times,\"ro--\")\n",
    "plt.xlabel(\"Difficultad\")\n",
    "plt.ylabel(\"Tiempo (s)\")"
   ]
  },
  {
   "cell_type": "markdown",
   "metadata": {},
   "source": [
    "### 1.4: Minado de Bloques. \n",
    "En este apartado se ha desarrollado la funcionalidad para  permitir el minado de bloques. Esto permite a los usuarios de la _blockchain_ poder registrar sus transacciones en la red. Para ello se utilizá la funcionalidad de POW o _Proof-of-work_ del anterior apartado."
   ]
  },
  {
   "cell_type": "code",
   "execution_count": 6,
   "metadata": {},
   "outputs": [],
   "source": [
    "%reset -f"
   ]
  },
  {
   "cell_type": "code",
   "execution_count": 4,
   "metadata": {},
   "outputs": [
    {
     "name": "stdout",
     "output_type": "stream",
     "text": [
      "Longitud de la blockchain: 1\n",
      "\n",
      "El hash valido encontrado: 00f06f9c43bd7d5c153039949f1e2b69839ca424d7ecc28471010ad433269f37\n",
      "\n",
      "¿Se añadió correctamente el bloque? True\n",
      "Longitud de la blockchain: 2\n",
      "El último bloque de la blockchain: {'index': 0, 'transactions': ['Esto es una prueba'], 'timestamp': 1652357491.270093, 'previous_hash': 'b94482d925206fcad8efa7e45d560acd9ba67ad02a4018e6a4595f1b3c10c796', 'nonce': 83, 'current_hash': '00f06f9c43bd7d5c153039949f1e2b69839ca424d7ecc28471010ad433269f37'}\n",
      "\n",
      "Transacciones pendientes: ['Raul debe 10€ a David', 'Mbappe al Real Madrid', 'Raul paga 10€ a David']\n",
      "\n",
      "Longitud de la blockchain: 3\n",
      "El último bloque de la blockchain: {'index': 1, 'transactions': ['Raul debe 10€ a David', 'Mbappe al Real Madrid', 'Raul paga 10€ a David'], 'timestamp': 1652357491.2780428, 'previous_hash': '00f06f9c43bd7d5c153039949f1e2b69839ca424d7ecc28471010ad433269f37', 'nonce': 395, 'current_hash': '005acf04f03bc1445c4ca6926329a502030e7bf755b62a8479ed3c34337d5626'}\n"
     ]
    }
   ],
   "source": [
    "from block import Block\n",
    "from blockchain import Blockchain\n",
    "from time import time\n",
    "\n",
    "# Se crea la cadena de blockchain\n",
    "blockchain = Blockchain()\n",
    "print(f\"Longitud de la blockchain: {len(blockchain.chain)}\\n\")\n",
    "\n",
    "# Se crea un nuevo bloque\n",
    "block = Block(blockchain.last_block.index,[\"Esto es una prueba\"],time(),blockchain.last_block.current_hash)\n",
    "\n",
    "# Sacamos el hash valido del bloque\n",
    "valid_hash = blockchain.proof_of_work(block)\n",
    "print(f\"El hash valido encontrado: {valid_hash}\\n\")\n",
    "\n",
    "# Se añade el bloque a la blockchain\n",
    "added = blockchain.append_block(block,valid_hash)\n",
    "print(f\"¿Se añadió correctamente el bloque? {added}\")\n",
    "print(f\"Longitud de la blockchain: {len(blockchain.chain)}\")\n",
    "print(f\"El último bloque de la blockchain: {blockchain.last_block.__dict__}\\n\")\n",
    "\n",
    "# Se añaden nuevas transacciones a la blockchain\n",
    "blockchain.add_new_transaction(\"Raul debe 10€ a David\")\n",
    "blockchain.add_new_transaction(\"Mbappe al Real Madrid\")\n",
    "blockchain.add_new_transaction(\"Raul paga 10€ a David\")\n",
    "print(f\"Transacciones pendientes: {blockchain.unconfirmed_transactions}\\n\")\n",
    "\n",
    "# Se realiza un minado para incluir las transacciones pendientes a la blockchain\n",
    "blockchain.mine()\n",
    "print(f\"Longitud de la blockchain: {len(blockchain.chain)}\")\n",
    "print(f\"El último bloque de la blockchain: {blockchain.last_block.__dict__}\")"
   ]
  },
  {
   "cell_type": "markdown",
   "metadata": {},
   "source": [
    "### 1.5: Chequeo de la cadena. \n",
    "En esta seccion se ha desarrollado una funcionalidad para comprobar la validez de una cadena de bloques al completo. Para ello se debe comprobar que todos los bloques hayan sido introducidos de forma correcta y empleando un hash válido."
   ]
  },
  {
   "cell_type": "code",
   "execution_count": 27,
   "metadata": {},
   "outputs": [
    {
     "name": "stdout",
     "output_type": "stream",
     "text": [
      "¿Es la blockchain valida? True\n"
     ]
    }
   ],
   "source": [
    "# Usamos la cadena creada en el apartado 1.4\n",
    "is_valid = blockchain.check_chain(blockchain.chain)\n",
    "print(f\"¿Es la blockchain valida? {is_valid}\")"
   ]
  },
  {
   "cell_type": "markdown",
   "metadata": {},
   "source": [
    "Sin embargo, es conveniente probar si detecta una cadena mal construida."
   ]
  },
  {
   "cell_type": "code",
   "execution_count": 31,
   "metadata": {},
   "outputs": [
    {
     "name": "stdout",
     "output_type": "stream",
     "text": [
      "¿Ha funcionado añadir el bloque incorrecto? False\n",
      "Longitud de la blockchain: 1\n"
     ]
    }
   ],
   "source": [
    "# Creamos otra blockchain\n",
    "blockchain2 = Blockchain()\n",
    "\n",
    "# Creamos un bloque incorrectamente\n",
    "bad_block = Block(blockchain2.last_block.index,[],time(),blockchain2.last_block.current_hash)\n",
    "bad_block.current_hash = bad_block.compute_hash()\n",
    "\n",
    "# Intentamos añadir el bloque 'malo' a la blockchain\n",
    "added = blockchain2.append_block(bad_block,bad_block.current_hash)\n",
    "print(f\"¿Ha funcionado añadir el bloque incorrecto? {added}\")\n",
    "print(f\"Longitud de la blockchain: {len(blockchain2.chain)}\")"
   ]
  },
  {
   "cell_type": "markdown",
   "metadata": {},
   "source": [
    "Con el método desarrollado no se pueden introducir bloques de forma incorrecta, a validarse el hash. Lo que es bueno. \n",
    "\n",
    "Por lo tanto, se deberá proceder de una manera rudimentaria."
   ]
  },
  {
   "cell_type": "code",
   "execution_count": 32,
   "metadata": {},
   "outputs": [
    {
     "name": "stdout",
     "output_type": "stream",
     "text": [
      "¿Ha funcionado añadir el bloque incorrecto? True\n",
      "Longitud de la blockchain: 2\n",
      "\n",
      "¿Es la blockchain valida? False\n"
     ]
    }
   ],
   "source": [
    "# Añadimos directamente el bloque a la cadena\n",
    "blockchain2.chain.append(bad_block)\n",
    "print(f\"¿Ha funcionado añadir el bloque incorrecto? {blockchain2.last_block == bad_block}\")\n",
    "print(f\"Longitud de la blockchain: {len(blockchain2.chain)}\\n\")\n",
    "\n",
    "# Chequeamos ahora la validez de la blockchain\n",
    "is_valid = blockchain2.check_chain(blockchain2.chain)\n",
    "print(f\"¿Es la blockchain valida? {is_valid}\")\n"
   ]
  },
  {
   "cell_type": "markdown",
   "metadata": {},
   "source": [
    "Queda demostrado que el método detecta correctamente cuando la cadena no es válida."
   ]
  },
  {
   "cell_type": "markdown",
   "metadata": {},
   "source": [
    "### 1.6 Definicion de API REST: Inserción de transacciones\n",
    "En este apartado es el turno de desarrollar una interfaz de tipo API REST para establecer comunicaciones con la _Blockchain_."
   ]
  },
  {
   "cell_type": "code",
   "execution_count": 2,
   "metadata": {},
   "outputs": [],
   "source": [
    "%reset -f"
   ]
  },
  {
   "cell_type": "code",
   "execution_count": 1,
   "metadata": {},
   "outputs": [
    {
     "name": "stdout",
     "output_type": "stream",
     "text": [
      " * Serving Flask app 'API' (lazy loading)\n",
      " * Environment: production\n",
      "\u001b[31m   WARNING: This is a development server. Do not use it in a production deployment.\u001b[0m\n",
      "\u001b[2m   Use a production WSGI server instead.\u001b[0m\n",
      " * Debug mode: off\n"
     ]
    },
    {
     "name": "stderr",
     "output_type": "stream",
     "text": [
      " * Running on http://127.0.0.1:8000/ (Press CTRL+C to quit)\n",
      "127.0.0.1 - - [17/May/2022 15:54:51] \"GET /pending_transactions HTTP/1.1\" 200 -\n",
      "127.0.0.1 - - [17/May/2022 15:54:55] \"POST /new_transaction HTTP/1.1\" 201 -\n",
      "127.0.0.1 - - [17/May/2022 15:54:57] \"GET /pending_transactions HTTP/1.1\" 200 -\n",
      "127.0.0.1 - - [17/May/2022 15:56:52] \"POST /new_transaction HTTP/1.1\" 201 -\n",
      "127.0.0.1 - - [17/May/2022 15:57:07] \"GET /pending_transactions HTTP/1.1\" 200 -\n",
      "127.0.0.1 - - [17/May/2022 15:57:12] \"GET /mine HTTP/1.1\" 200 -\n",
      "127.0.0.1 - - [17/May/2022 15:57:21] \"GET /chain HTTP/1.1\" 201 -\n",
      "127.0.0.1 - - [17/May/2022 15:57:57] \"POST /register_new_node HTTP/1.1\" 201 -\n",
      "127.0.0.1 - - [17/May/2022 15:58:25] \"GET /chain HTTP/1.1\" 201 -\n",
      "127.0.0.1 - - [17/May/2022 15:58:25] \"GET /chain HTTP/1.1\" 201 -\n",
      "127.0.0.1 - - [17/May/2022 15:58:25] \"POST /add_block HTTP/1.1\" 200 -\n",
      "127.0.0.1 - - [17/May/2022 15:58:37] \"GET /pending_transactions HTTP/1.1\" 200 -\n",
      "127.0.0.1 - - [17/May/2022 15:58:39] \"GET /chain HTTP/1.1\" 201 -\n",
      "127.0.0.1 - - [17/May/2022 16:03:20] \"POST /new_transaction HTTP/1.1\" 201 -\n",
      "127.0.0.1 - - [17/May/2022 16:03:22] \"GET /pending_transactions HTTP/1.1\" 200 -\n"
     ]
    }
   ],
   "source": [
    "import API\n",
    "\n",
    "# Levantamos la app (localhost y puerto 8000)\n",
    "API.app.run(host='127.0.0.1',port=8000,debug=False)"
   ]
  },
  {
   "cell_type": "markdown",
   "metadata": {},
   "source": [
    "**¡IMPORTANTE!** Para testear los distintos endpoint desarrollados, se precisa ejecutar el código correspondiente a cada apartado en el notebook **_api.ipynb_**"
   ]
  }
 ],
 "metadata": {
  "interpreter": {
   "hash": "360d2ec9e4dfd6b1878fd3e8a755d824822ee15ddf61adb86e60331f847457cf"
  },
  "kernelspec": {
   "display_name": "Python 3.9.7 ('SSDD')",
   "language": "python",
   "name": "python3"
  },
  "language_info": {
   "codemirror_mode": {
    "name": "ipython",
    "version": 3
   },
   "file_extension": ".py",
   "mimetype": "text/x-python",
   "name": "python",
   "nbconvert_exporter": "python",
   "pygments_lexer": "ipython3",
   "version": "3.9.7"
  },
  "orig_nbformat": 4
 },
 "nbformat": 4,
 "nbformat_minor": 2
}
