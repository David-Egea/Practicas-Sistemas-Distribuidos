{
 "cells": [
  {
   "cell_type": "markdown",
   "metadata": {},
   "source": [
    "# PRACTICA 6: ELASTICSEARCH\n",
    "### 1.4 Consulta del API e ingesta de datos en ELASTICSEARCH"
   ]
  },
  {
   "cell_type": "markdown",
   "metadata": {},
   "source": [
    "Se importan las librerias necesarias"
   ]
  },
  {
   "cell_type": "code",
   "execution_count": 4,
   "metadata": {},
   "outputs": [],
   "source": [
    "import requests\n",
    "from xml.etree import ElementTree"
   ]
  },
  {
   "cell_type": "code",
   "execution_count": 5,
   "metadata": {},
   "outputs": [],
   "source": [
    "response = requests.get(\"https://informo.madrid.es/informo/tmadrid/pm.xml\")\n",
    "root = ElementTree.fromstring(response.content)"
   ]
  },
  {
   "cell_type": "code",
   "execution_count": 6,
   "metadata": {},
   "outputs": [
    {
     "name": "stdout",
     "output_type": "stream",
     "text": [
      "01/04/2022 11:45:08\n"
     ]
    }
   ],
   "source": [
    "fecha = root[0].text\n",
    "print(fecha)"
   ]
  },
  {
   "cell_type": "code",
   "execution_count": 10,
   "metadata": {},
   "outputs": [],
   "source": [
    "out = []\n",
    "for pm in root[1:]:\n",
    "    d = {}\n",
    "    for i in pm:\n",
    "        d[i.tag] = i.text\n",
    "    out.append(d)"
   ]
  },
  {
   "cell_type": "code",
   "execution_count": 11,
   "metadata": {},
   "outputs": [
    {
     "name": "stdout",
     "output_type": "stream",
     "text": [
      "Hay 4464 medidas en el XML\n"
     ]
    }
   ],
   "source": [
    "print(f\"Hay {len(out)} medidas en el XML\")"
   ]
  },
  {
   "cell_type": "markdown",
   "metadata": {},
   "source": [
    "### 2. Resultados en formato Pandas"
   ]
  },
  {
   "cell_type": "code",
   "execution_count": 12,
   "metadata": {},
   "outputs": [
    {
     "name": "stdout",
     "output_type": "stream",
     "text": [
      "Collecting pandas\n",
      "  Downloading pandas-1.4.1-cp39-cp39-win_amd64.whl (10.5 MB)\n",
      "Requirement already satisfied: python-dateutil>=2.8.1 in c:\\users\\egeah\\miniconda3\\envs\\ssdd\\lib\\site-packages (from pandas) (2.8.2)\n",
      "Collecting numpy>=1.18.5\n",
      "  Using cached numpy-1.22.3-cp39-cp39-win_amd64.whl (14.7 MB)\n",
      "Collecting pytz>=2020.1\n",
      "  Downloading pytz-2022.1-py2.py3-none-any.whl (503 kB)\n",
      "Requirement already satisfied: six>=1.5 in c:\\users\\egeah\\miniconda3\\envs\\ssdd\\lib\\site-packages (from python-dateutil>=2.8.1->pandas) (1.16.0)\n",
      "Installing collected packages: pytz, numpy, pandas\n",
      "Successfully installed numpy-1.22.3 pandas-1.4.1 pytz-2022.1\n"
     ]
    }
   ],
   "source": [
    "!pip install pandas"
   ]
  },
  {
   "cell_type": "code",
   "execution_count": 13,
   "metadata": {},
   "outputs": [
    {
     "data": {
      "text/html": [
       "<div>\n",
       "<style scoped>\n",
       "    .dataframe tbody tr th:only-of-type {\n",
       "        vertical-align: middle;\n",
       "    }\n",
       "\n",
       "    .dataframe tbody tr th {\n",
       "        vertical-align: top;\n",
       "    }\n",
       "\n",
       "    .dataframe thead th {\n",
       "        text-align: right;\n",
       "    }\n",
       "</style>\n",
       "<table border=\"1\" class=\"dataframe\">\n",
       "  <thead>\n",
       "    <tr style=\"text-align: right;\">\n",
       "      <th></th>\n",
       "      <th>idelem</th>\n",
       "      <th>descripcion</th>\n",
       "      <th>accesoAsociado</th>\n",
       "      <th>intensidad</th>\n",
       "      <th>ocupacion</th>\n",
       "      <th>carga</th>\n",
       "      <th>nivelServicio</th>\n",
       "      <th>intensidadSat</th>\n",
       "      <th>error</th>\n",
       "      <th>subarea</th>\n",
       "      <th>st_x</th>\n",
       "      <th>st_y</th>\n",
       "      <th>velocidad</th>\n",
       "    </tr>\n",
       "  </thead>\n",
       "  <tbody>\n",
       "    <tr>\n",
       "      <th>0</th>\n",
       "      <td>3409</td>\n",
       "      <td>SEPULVEDA Ø118 N-S (CEBREROS-CJAL. FCO. J. JIM...</td>\n",
       "      <td>240102</td>\n",
       "      <td>120</td>\n",
       "      <td>1</td>\n",
       "      <td>5</td>\n",
       "      <td>0</td>\n",
       "      <td>3000</td>\n",
       "      <td>N</td>\n",
       "      <td>1718</td>\n",
       "      <td>436004,103195086</td>\n",
       "      <td>4472588,47356732</td>\n",
       "      <td>NaN</td>\n",
       "    </tr>\n",
       "    <tr>\n",
       "      <th>1</th>\n",
       "      <td>4739</td>\n",
       "      <td>CJAL. FCO. J. JIMENEZ Ø126 E-O (BERLANAS-SEPUL...</td>\n",
       "      <td>240101</td>\n",
       "      <td>280</td>\n",
       "      <td>2</td>\n",
       "      <td>11</td>\n",
       "      <td>0</td>\n",
       "      <td>3000</td>\n",
       "      <td>N</td>\n",
       "      <td>1718</td>\n",
       "      <td>436039,395885266</td>\n",
       "      <td>4472397,54735486</td>\n",
       "      <td>NaN</td>\n",
       "    </tr>\n",
       "  </tbody>\n",
       "</table>\n",
       "</div>"
      ],
      "text/plain": [
       "  idelem                                        descripcion accesoAsociado  \\\n",
       "0   3409  SEPULVEDA Ø118 N-S (CEBREROS-CJAL. FCO. J. JIM...         240102   \n",
       "1   4739  CJAL. FCO. J. JIMENEZ Ø126 E-O (BERLANAS-SEPUL...         240101   \n",
       "\n",
       "  intensidad ocupacion carga nivelServicio intensidadSat error subarea  \\\n",
       "0        120         1     5             0          3000     N    1718   \n",
       "1        280         2    11             0          3000     N    1718   \n",
       "\n",
       "               st_x              st_y velocidad  \n",
       "0  436004,103195086  4472588,47356732       NaN  \n",
       "1  436039,395885266  4472397,54735486       NaN  "
      ]
     },
     "execution_count": 13,
     "metadata": {},
     "output_type": "execute_result"
    }
   ],
   "source": [
    "import pandas as pd\n",
    "\n",
    "# Data frame\n",
    "df = pd.DataFrame(out)\n",
    "# Se muestran los dos primeros elementos\n",
    "df.head(2)"
   ]
  }
 ],
 "metadata": {
  "interpreter": {
   "hash": "b721f3c8f99b48512fb80e5bd05d3af807ac3cda5269fe1514b0c1bed2de3bde"
  },
  "kernelspec": {
   "display_name": "Python 3.9.7 ('SSDD')",
   "language": "python",
   "name": "python3"
  },
  "language_info": {
   "codemirror_mode": {
    "name": "ipython",
    "version": 3
   },
   "file_extension": ".py",
   "mimetype": "text/x-python",
   "name": "python",
   "nbconvert_exporter": "python",
   "pygments_lexer": "ipython3",
   "version": "3.9.7"
  },
  "orig_nbformat": 4
 },
 "nbformat": 4,
 "nbformat_minor": 2
}
