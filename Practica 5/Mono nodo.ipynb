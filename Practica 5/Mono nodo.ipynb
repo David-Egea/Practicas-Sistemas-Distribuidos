{
 "cells": [
  {
   "cell_type": "markdown",
   "metadata": {},
   "source": [
    "# PRACTICA 6: QUICK START with REDIS SINGLE NODE"
   ]
  },
  {
   "cell_type": "markdown",
   "metadata": {},
   "source": [
    "Primero importamos la librería Redis."
   ]
  },
  {
   "cell_type": "code",
   "execution_count": 1,
   "metadata": {},
   "outputs": [],
   "source": [
    "import redis"
   ]
  },
  {
   "cell_type": "markdown",
   "metadata": {},
   "source": [
    "Creamos una conexión al servidor de Redis."
   ]
  },
  {
   "cell_type": "code",
   "execution_count": 9,
   "metadata": {},
   "outputs": [],
   "source": [
    "r = redis.Redis(host='127.0.0.1', port=16379)"
   ]
  },
  {
   "cell_type": "markdown",
   "metadata": {},
   "source": [
    "Reiniciamos la BBDD de Redis para eliminar los datasets existentes."
   ]
  },
  {
   "cell_type": "code",
   "execution_count": 10,
   "metadata": {},
   "outputs": [
    {
     "data": {
      "text/plain": [
       "True"
      ]
     },
     "execution_count": 10,
     "metadata": {},
     "output_type": "execute_result"
    }
   ],
   "source": [
    "r.flushall()"
   ]
  },
  {
   "cell_type": "markdown",
   "metadata": {},
   "source": [
    "A modo de prueba, guardamos un par de claves/valores en la base de datos. \n",
    "Para el caso de  _Strings_:"
   ]
  },
  {
   "cell_type": "code",
   "execution_count": 11,
   "metadata": {},
   "outputs": [
    {
     "name": "stdout",
     "output_type": "stream",
     "text": [
      "El plan: b'funciona'\n"
     ]
    }
   ],
   "source": [
    "# Guardamos el valor \"funciona\" con la clave \"El plan\"\n",
    "r.set('El plan', 'funciona')\n",
    "# Consultamos el valor asignado a la clave \"El plan\" en la base de datos\n",
    "print(f\"El plan: {r.get('El plan')}\")"
   ]
  },
  {
   "cell_type": "code",
   "execution_count": 12,
   "metadata": {},
   "outputs": [
    {
     "name": "stdout",
     "output_type": "stream",
     "text": [
      "El plan: b'funciona'\n"
     ]
    }
   ],
   "source": [
    "# Guardamos el valor \"funciona\" con la clave \"El plan\"\n",
    "r.set('El plan', 'funciona')\n",
    "# Consultamos el valor asignado a la clave \"El plan\" en la base de datos\n",
    "print(f\"El plan: {r.get('El plan')}\")"
   ]
  },
  {
   "cell_type": "markdown",
   "metadata": {},
   "source": [
    "Para el resto de tipos:"
   ]
  },
  {
   "cell_type": "code",
   "execution_count": 13,
   "metadata": {},
   "outputs": [
    {
     "name": "stdout",
     "output_type": "stream",
     "text": [
      "Uno es: b'1'\n",
      "Uno es: b'1.0'\n",
      "Verdadero es: True\n"
     ]
    }
   ],
   "source": [
    "# Caso: int\n",
    "r.set(\"Uno\",1)\n",
    "print(f\"Uno es: {r.get('Uno')}\")\n",
    "# Caso: float\n",
    "r.set(\"Uno\",1.0)\n",
    "print(f\"Uno es: {r.get('Uno')}\")\n",
    "# Caso: bool\n",
    "r.set(\"Verdadero\",bytes(True)) # Conversión a int/float/bytes primero\n",
    "print(f\"Verdadero es: {bool(r.get('Verdadero'))}\")"
   ]
  },
  {
   "cell_type": "markdown",
   "metadata": {},
   "source": [
    "Sobrescribimos el valor de la clave usada anteriormente:"
   ]
  },
  {
   "cell_type": "code",
   "execution_count": 15,
   "metadata": {},
   "outputs": [
    {
     "name": "stdout",
     "output_type": "stream",
     "text": [
      "El plan: b'no funciona'\n"
     ]
    }
   ],
   "source": [
    "# Guardamos con la misma \"key\" un nuevo valor\n",
    "r.set(\"El plan\",\"no funciona\")\n",
    "# Consultamos el valor asignado a la clave \"El plan\" en la base de datos\n",
    "print(f\"El plan: {r.get('El plan')}\")"
   ]
  },
  {
   "cell_type": "markdown",
   "metadata": {},
   "source": [
    "### PIPELINES: \n",
    "* Los pipelines son una subclase de la Redis _class_ que ofrece la posibilidad de almacenar mediante _buffering_ múltiples comandos lanzados contra el servidor en una misma petición.\n",
    "* Se usan para mejorar significativamente el rendimiento de grupos de comandos, al reducir el número de comandos de back-and-forth de paquetes TCP intercambiados entre cliente y servidor."
   ]
  },
  {
   "cell_type": "code",
   "execution_count": 16,
   "metadata": {},
   "outputs": [
    {
     "name": "stdout",
     "output_type": "stream",
     "text": [
      "Chamartin: b'28005'\n",
      "Salamanca: b'28004'\n",
      "Retiro: b'28007'\n",
      "Centro: None\n"
     ]
    },
    {
     "data": {
      "text/plain": [
       "[True, True, True]"
      ]
     },
     "execution_count": 16,
     "metadata": {},
     "output_type": "execute_result"
    }
   ],
   "source": [
    "# Creamos un pipeline de la base de datos Redis\n",
    "pipe = r.pipeline()\n",
    "# Guardamos las claves y valores en la BBDD\n",
    "pipe.set('Chamartin', \"28005\")\n",
    "pipe.set('Salamanca', \"28004\")\n",
    "pipe.set('Retiro', \"28007\")\n",
    "# Consultamos los valores de las claves\n",
    "print(f\"Chamartin: {r.get('Chamartin')}\")\n",
    "print(f\"Salamanca: {r.get('Salamanca')}\")\n",
    "print(f\"Retiro: {r.get('Retiro')}\")\n",
    "print(f\"Centro: {r.get('Centro')}\") # No hay valor asignado a esta clave \n",
    "pipe.execute()"
   ]
  },
  {
   "cell_type": "markdown",
   "metadata": {},
   "source": [
    "Mismo caso de antes, solo que concatenando peticiones en el mismo pipeline."
   ]
  },
  {
   "cell_type": "code",
   "execution_count": 17,
   "metadata": {},
   "outputs": [
    {
     "data": {
      "text/plain": [
       "[True, True, True, b'28005', b'28004', b'28007', None]"
      ]
     },
     "execution_count": 17,
     "metadata": {},
     "output_type": "execute_result"
    }
   ],
   "source": [
    "# Creamos un pipeline de la base de datos Redis\n",
    "pipe = r.pipeline()\n",
    "# Guardamos las claves y valores en la BBDD\n",
    "pipe.set('Chamartin', \"28005\").set('Salamanca', \"28004\").set('Retiro', \"28007\")\\\n",
    "    .get('Chamartin').get('Salamanca').get('Retiro').get('Centro').execute()"
   ]
  },
  {
   "cell_type": "markdown",
   "metadata": {},
   "source": [
    "### PUBLISH/SUBSCRIPTION\n",
    "* Redis incluye un sistema de objetos _PubSub_ que permite la subscripción a canales para escuchar nuevos mensajes publicados. "
   ]
  },
  {
   "cell_type": "code",
   "execution_count": 1,
   "metadata": {},
   "outputs": [],
   "source": [
    "import redis \n",
    "redis = redis.Redis(host='127.0.0.1', port=16379)\n",
    "consumer = redis.pubsub()\n",
    "consumer.subscribe('channel-football', 'channel-basket')"
   ]
  },
  {
   "cell_type": "markdown",
   "metadata": {},
   "source": [
    "Recogen las publicaciones de los distintos canales. Como no hay publicaiones, no se recibe nada."
   ]
  },
  {
   "cell_type": "code",
   "execution_count": 2,
   "metadata": {},
   "outputs": [
    {
     "data": {
      "text/plain": [
       "{'type': 'subscribe',\n",
       " 'pattern': None,\n",
       " 'channel': b'channel-football',\n",
       " 'data': 1}"
      ]
     },
     "execution_count": 2,
     "metadata": {},
     "output_type": "execute_result"
    }
   ],
   "source": [
    "consumer.get_message()"
   ]
  },
  {
   "cell_type": "markdown",
   "metadata": {},
   "source": [
    "Se muestran los canales disponibles"
   ]
  },
  {
   "cell_type": "code",
   "execution_count": 3,
   "metadata": {},
   "outputs": [
    {
     "data": {
      "text/plain": [
       "{b'channel-football': None, b'channel-basket': None}"
      ]
     },
     "execution_count": 3,
     "metadata": {},
     "output_type": "execute_result"
    }
   ],
   "source": [
    "consumer.channels"
   ]
  },
  {
   "cell_type": "markdown",
   "metadata": {},
   "source": [
    "Publicamos distintos partidos en el canal de futbol:"
   ]
  },
  {
   "cell_type": "code",
   "execution_count": 19,
   "metadata": {},
   "outputs": [
    {
     "data": {
      "text/plain": [
       "1"
      ]
     },
     "execution_count": 19,
     "metadata": {},
     "output_type": "execute_result"
    },
    {
     "name": "stdout",
     "output_type": "stream",
     "text": [
      "{'type': 'message', 'pattern': None, 'channel': b'channel-football', 'data': b'Real Madrid - Celta'}\n",
      "{'type': 'message', 'pattern': None, 'channel': b'channel-football', 'data': b'Atletico - Alaves'}\n"
     ]
    }
   ],
   "source": [
    "redis.publish(\"channel-football\",\"Real Madrid - Celta\")\n",
    "redis.publish(\"channel-football\",\"Atletico - Alaves\")\n",
    "redis.publish(\"channel-football\",\"Granada - Farsa\")"
   ]
  },
  {
   "cell_type": "markdown",
   "metadata": {},
   "source": [
    "Publicamos otros tantos partidos de basket:"
   ]
  },
  {
   "cell_type": "code",
   "execution_count": 20,
   "metadata": {},
   "outputs": [
    {
     "data": {
      "text/plain": [
       "1"
      ]
     },
     "execution_count": 20,
     "metadata": {},
     "output_type": "execute_result"
    },
    {
     "name": "stdout",
     "output_type": "stream",
     "text": [
      "{'type': 'message', 'pattern': None, 'channel': b'channel-football', 'data': b'Granada - Farsa'}\n",
      "{'type': 'message', 'pattern': None, 'channel': b'channel-basket', 'data': b'Lakers - Pelicans'}\n",
      "{'type': 'message', 'pattern': None, 'channel': b'channel-basket', 'data': b'Suns - Grizzlies'}\n",
      "{'type': 'message', 'pattern': None, 'channel': b'channel-basket', 'data': b'Jazz - Mavs'}\n"
     ]
    }
   ],
   "source": [
    "redis.publish(\"channel-basket\",\"Lakers - Pelicans\")\n",
    "redis.publish(\"channel-basket\",\"Suns - Grizzlies\")\n",
    "redis.publish(\"channel-basket\",\"Jazz - Mavs\")"
   ]
  },
  {
   "cell_type": "markdown",
   "metadata": {},
   "source": [
    "Se recibe el mensaje recién publicado. De uno en uno."
   ]
  },
  {
   "cell_type": "code",
   "execution_count": 27,
   "metadata": {},
   "outputs": [
    {
     "ename": "RuntimeError",
     "evalue": "pubsub connection not set: did you forget to call subscribe() or psubscribe()?",
     "output_type": "error",
     "traceback": [
      "\u001b[1;31m---------------------------------------------------------------------------\u001b[0m",
      "\u001b[1;31mRuntimeError\u001b[0m                              Traceback (most recent call last)",
      "\u001b[1;32mc:\\Users\\egeah\\Sistemas Distribuidos\\Practicas-Sistemas-Distribuidos\\Practica 5\\Mono nodo.ipynb Cell 30'\u001b[0m in \u001b[0;36m<cell line: 1>\u001b[1;34m()\u001b[0m\n\u001b[1;32m----> <a href='vscode-notebook-cell:/c%3A/Users/egeah/Sistemas%20Distribuidos/Practicas-Sistemas-Distribuidos/Practica%205/Mono%20nodo.ipynb#ch0000027?line=0'>1</a>\u001b[0m consumer\u001b[39m.\u001b[39;49mget_message()\n",
      "File \u001b[1;32m~\\miniconda3\\envs\\SSDD\\lib\\site-packages\\redis\\client.py:3617\u001b[0m, in \u001b[0;36mPubSub.get_message\u001b[1;34m(self, ignore_subscribe_messages, timeout)\u001b[0m\n\u001b[0;32m   <a href='file:///c%3A/Users/egeah/miniconda3/envs/SSDD/lib/site-packages/redis/client.py?line=3608'>3609</a>\u001b[0m \u001b[39mdef\u001b[39;00m \u001b[39mget_message\u001b[39m(\u001b[39mself\u001b[39m, ignore_subscribe_messages\u001b[39m=\u001b[39m\u001b[39mFalse\u001b[39;00m, timeout\u001b[39m=\u001b[39m\u001b[39m0\u001b[39m):\n\u001b[0;32m   <a href='file:///c%3A/Users/egeah/miniconda3/envs/SSDD/lib/site-packages/redis/client.py?line=3609'>3610</a>\u001b[0m     \u001b[39m\"\"\"\u001b[39;00m\n\u001b[0;32m   <a href='file:///c%3A/Users/egeah/miniconda3/envs/SSDD/lib/site-packages/redis/client.py?line=3610'>3611</a>\u001b[0m \u001b[39m    Get the next message if one is available, otherwise None.\u001b[39;00m\n\u001b[0;32m   <a href='file:///c%3A/Users/egeah/miniconda3/envs/SSDD/lib/site-packages/redis/client.py?line=3611'>3612</a>\u001b[0m \n\u001b[1;32m   (...)\u001b[0m\n\u001b[0;32m   <a href='file:///c%3A/Users/egeah/miniconda3/envs/SSDD/lib/site-packages/redis/client.py?line=3614'>3615</a>\u001b[0m \u001b[39m    number.\u001b[39;00m\n\u001b[0;32m   <a href='file:///c%3A/Users/egeah/miniconda3/envs/SSDD/lib/site-packages/redis/client.py?line=3615'>3616</a>\u001b[0m \u001b[39m    \"\"\"\u001b[39;00m\n\u001b[1;32m-> <a href='file:///c%3A/Users/egeah/miniconda3/envs/SSDD/lib/site-packages/redis/client.py?line=3616'>3617</a>\u001b[0m     response \u001b[39m=\u001b[39m \u001b[39mself\u001b[39;49m\u001b[39m.\u001b[39;49mparse_response(block\u001b[39m=\u001b[39;49m\u001b[39mFalse\u001b[39;49;00m, timeout\u001b[39m=\u001b[39;49mtimeout)\n\u001b[0;32m   <a href='file:///c%3A/Users/egeah/miniconda3/envs/SSDD/lib/site-packages/redis/client.py?line=3617'>3618</a>\u001b[0m     \u001b[39mif\u001b[39;00m response:\n\u001b[0;32m   <a href='file:///c%3A/Users/egeah/miniconda3/envs/SSDD/lib/site-packages/redis/client.py?line=3618'>3619</a>\u001b[0m         \u001b[39mreturn\u001b[39;00m \u001b[39mself\u001b[39m\u001b[39m.\u001b[39mhandle_message(response, ignore_subscribe_messages)\n",
      "File \u001b[1;32m~\\miniconda3\\envs\\SSDD\\lib\\site-packages\\redis\\client.py:3497\u001b[0m, in \u001b[0;36mPubSub.parse_response\u001b[1;34m(self, block, timeout)\u001b[0m\n\u001b[0;32m   <a href='file:///c%3A/Users/egeah/miniconda3/envs/SSDD/lib/site-packages/redis/client.py?line=3494'>3495</a>\u001b[0m conn \u001b[39m=\u001b[39m \u001b[39mself\u001b[39m\u001b[39m.\u001b[39mconnection\n\u001b[0;32m   <a href='file:///c%3A/Users/egeah/miniconda3/envs/SSDD/lib/site-packages/redis/client.py?line=3495'>3496</a>\u001b[0m \u001b[39mif\u001b[39;00m conn \u001b[39mis\u001b[39;00m \u001b[39mNone\u001b[39;00m:\n\u001b[1;32m-> <a href='file:///c%3A/Users/egeah/miniconda3/envs/SSDD/lib/site-packages/redis/client.py?line=3496'>3497</a>\u001b[0m     \u001b[39mraise\u001b[39;00m \u001b[39mRuntimeError\u001b[39;00m(\n\u001b[0;32m   <a href='file:///c%3A/Users/egeah/miniconda3/envs/SSDD/lib/site-packages/redis/client.py?line=3497'>3498</a>\u001b[0m         \u001b[39m'\u001b[39m\u001b[39mpubsub connection not set: \u001b[39m\u001b[39m'\u001b[39m\n\u001b[0;32m   <a href='file:///c%3A/Users/egeah/miniconda3/envs/SSDD/lib/site-packages/redis/client.py?line=3498'>3499</a>\u001b[0m         \u001b[39m'\u001b[39m\u001b[39mdid you forget to call subscribe() or psubscribe()?\u001b[39m\u001b[39m'\u001b[39m)\n\u001b[0;32m   <a href='file:///c%3A/Users/egeah/miniconda3/envs/SSDD/lib/site-packages/redis/client.py?line=3500'>3501</a>\u001b[0m \u001b[39mself\u001b[39m\u001b[39m.\u001b[39mcheck_health()\n\u001b[0;32m   <a href='file:///c%3A/Users/egeah/miniconda3/envs/SSDD/lib/site-packages/redis/client.py?line=3502'>3503</a>\u001b[0m \u001b[39mif\u001b[39;00m \u001b[39mnot\u001b[39;00m block \u001b[39mand\u001b[39;00m \u001b[39mnot\u001b[39;00m conn\u001b[39m.\u001b[39mcan_read(timeout\u001b[39m=\u001b[39mtimeout):\n",
      "\u001b[1;31mRuntimeError\u001b[0m: pubsub connection not set: did you forget to call subscribe() or psubscribe()?"
     ]
    }
   ],
   "source": [
    "consumer.get_message()"
   ]
  },
  {
   "cell_type": "markdown",
   "metadata": {},
   "source": [
    "Cerramos el consumidor"
   ]
  },
  {
   "cell_type": "code",
   "execution_count": 24,
   "metadata": {},
   "outputs": [
    {
     "name": "stderr",
     "output_type": "stream",
     "text": [
      "Exception in thread Thread-6:\n",
      "Traceback (most recent call last):\n",
      "  File \"C:\\Users\\egeah\\miniconda3\\envs\\SSDD\\lib\\threading.py\", line 973, in _bootstrap_inner\n",
      "    self.run()\n",
      "  File \"C:\\Users\\egeah\\miniconda3\\envs\\SSDD\\lib\\threading.py\", line 910, in run\n",
      "    self._target(*self._args, **self._kwargs)\n",
      "  File \"C:\\Users\\egeah\\AppData\\Local\\Temp\\ipykernel_21168\\4166509208.py\", line 6, in reading_by_time\n",
      "  File \"C:\\Users\\egeah\\miniconda3\\envs\\SSDD\\lib\\site-packages\\redis\\client.py\", line 3617, in get_message\n",
      "    response = self.parse_response(block=False, timeout=timeout)\n",
      "  File \"C:\\Users\\egeah\\miniconda3\\envs\\SSDD\\lib\\site-packages\\redis\\client.py\", line 3497, in parse_response\n",
      "    raise RuntimeError(\n",
      "RuntimeError: pubsub connection not set: did you forget to call subscribe() or psubscribe()?\n",
      "Exception in thread Thread-4:\n",
      "Traceback (most recent call last):\n",
      "  File \"C:\\Users\\egeah\\miniconda3\\envs\\SSDD\\lib\\threading.py\", line 973, in _bootstrap_inner\n",
      "    self.run()\n",
      "  File \"C:\\Users\\egeah\\miniconda3\\envs\\SSDD\\lib\\threading.py\", line 910, in run\n",
      "    self._target(*self._args, **self._kwargs)\n",
      "  File \"C:\\Users\\egeah\\AppData\\Local\\Temp\\ipykernel_21168\\4166509208.py\", line 6, in reading_by_time\n",
      "  File \"C:\\Users\\egeah\\miniconda3\\envs\\SSDD\\lib\\site-packages\\redis\\client.py\", line 3617, in get_message\n",
      "    response = self.parse_response(block=False, timeout=timeout)\n",
      "  File \"C:\\Users\\egeah\\miniconda3\\envs\\SSDD\\lib\\site-packages\\redis\\client.py\", line 3497, in parse_response\n",
      "    raise RuntimeError(\n",
      "RuntimeError: pubsub connection not set: did you forget to call subscribe() or psubscribe()?\n",
      "Exception in thread Thread-3:\n",
      "Traceback (most recent call last):\n",
      "  File \"C:\\Users\\egeah\\miniconda3\\envs\\SSDD\\lib\\threading.py\", line 973, in _bootstrap_inner\n",
      "    self.run()\n",
      "  File \"C:\\Users\\egeah\\miniconda3\\envs\\SSDD\\lib\\threading.py\", line 910, in run\n",
      "    self._target(*self._args, **self._kwargs)\n",
      "  File \"C:\\Users\\egeah\\AppData\\Local\\Temp\\ipykernel_21168\\4166509208.py\", line 6, in reading_by_time\n",
      "  File \"C:\\Users\\egeah\\miniconda3\\envs\\SSDD\\lib\\site-packages\\redis\\client.py\", line 3617, in get_message\n",
      "    response = self.parse_response(block=False, timeout=timeout)\n",
      "  File \"C:\\Users\\egeah\\miniconda3\\envs\\SSDD\\lib\\site-packages\\redis\\client.py\", line 3497, in parse_response\n",
      "    raise RuntimeError(\n",
      "RuntimeError: pubsub connection not set: did you forget to call subscribe() or psubscribe()?\n",
      "Exception in thread Thread-7:\n",
      "Traceback (most recent call last):\n",
      "  File \"C:\\Users\\egeah\\miniconda3\\envs\\SSDD\\lib\\threading.py\", line 973, in _bootstrap_inner\n",
      "    self.run()\n",
      "  File \"C:\\Users\\egeah\\miniconda3\\envs\\SSDD\\lib\\threading.py\", line 910, in run\n",
      "    self._target(*self._args, **self._kwargs)\n",
      "  File \"C:\\Users\\egeah\\AppData\\Local\\Temp\\ipykernel_21168\\4166509208.py\", line 6, in reading_by_time\n",
      "  File \"C:\\Users\\egeah\\miniconda3\\envs\\SSDD\\lib\\site-packages\\redis\\client.py\", line 3617, in get_message\n",
      "    response = self.parse_response(block=False, timeout=timeout)\n",
      "  File \"C:\\Users\\egeah\\miniconda3\\envs\\SSDD\\lib\\site-packages\\redis\\client.py\", line 3497, in parse_response\n",
      "    raise RuntimeError(\n",
      "RuntimeError: pubsub connection not set: did you forget to call subscribe() or psubscribe()?\n",
      "Exception in thread Thread-8:\n",
      "Traceback (most recent call last):\n",
      "  File \"C:\\Users\\egeah\\miniconda3\\envs\\SSDD\\lib\\threading.py\", line 973, in _bootstrap_inner\n",
      "    self.run()\n",
      "  File \"C:\\Users\\egeah\\miniconda3\\envs\\SSDD\\lib\\threading.py\", line 910, in run\n",
      "    self._target(*self._args, **self._kwargs)\n",
      "  File \"C:\\Users\\egeah\\AppData\\Local\\Temp\\ipykernel_21168\\4166509208.py\", line 6, in reading_by_time\n",
      "  File \"C:\\Users\\egeah\\miniconda3\\envs\\SSDD\\lib\\site-packages\\redis\\client.py\", line 3617, in get_message\n",
      "    response = self.parse_response(block=False, timeout=timeout)\n",
      "  File \"C:\\Users\\egeah\\miniconda3\\envs\\SSDD\\lib\\site-packages\\redis\\client.py\", line 3497, in parse_response\n",
      "    raise RuntimeError(\n",
      "RuntimeError: pubsub connection not set: did you forget to call subscribe() or psubscribe()?\n",
      "Exception in thread Thread-5:\n",
      "Traceback (most recent call last):\n",
      "  File \"C:\\Users\\egeah\\miniconda3\\envs\\SSDD\\lib\\threading.py\", line 973, in _bootstrap_inner\n",
      "    self.run()\n",
      "  File \"C:\\Users\\egeah\\miniconda3\\envs\\SSDD\\lib\\threading.py\", line 910, in run\n",
      "    self._target(*self._args, **self._kwargs)\n",
      "  File \"C:\\Users\\egeah\\AppData\\Local\\Temp\\ipykernel_21168\\4166509208.py\", line 6, in reading_by_time\n",
      "  File \"C:\\Users\\egeah\\miniconda3\\envs\\SSDD\\lib\\site-packages\\redis\\client.py\", line 3617, in get_message\n",
      "    response = self.parse_response(block=False, timeout=timeout)\n",
      "  File \"C:\\Users\\egeah\\miniconda3\\envs\\SSDD\\lib\\site-packages\\redis\\client.py\", line 3497, in parse_response\n",
      "    raise RuntimeError(\n",
      "RuntimeError: pubsub connection not set: did you forget to call subscribe() or psubscribe()?\n"
     ]
    }
   ],
   "source": [
    "consumer.close()"
   ]
  }
 ],
 "metadata": {
  "interpreter": {
   "hash": "b721f3c8f99b48512fb80e5bd05d3af807ac3cda5269fe1514b0c1bed2de3bde"
  },
  "kernelspec": {
   "display_name": "Python 3.9.7 ('SSDD')",
   "language": "python",
   "name": "python3"
  },
  "language_info": {
   "codemirror_mode": {
    "name": "ipython",
    "version": 3
   },
   "file_extension": ".py",
   "mimetype": "text/x-python",
   "name": "python",
   "nbconvert_exporter": "python",
   "pygments_lexer": "ipython3",
   "version": "3.9.7"
  },
  "orig_nbformat": 4
 },
 "nbformat": 4,
 "nbformat_minor": 2
}
