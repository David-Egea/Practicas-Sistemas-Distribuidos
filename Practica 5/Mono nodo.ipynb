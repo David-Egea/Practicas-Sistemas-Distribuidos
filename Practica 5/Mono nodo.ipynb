{
 "cells": [
  {
   "cell_type": "markdown",
   "metadata": {},
   "source": [
    "# PRACTICA 6: QUICK START with REDIS SINGLE NODE"
   ]
  },
  {
   "cell_type": "markdown",
   "metadata": {},
   "source": [
    "Primero importamos la librería Redis."
   ]
  },
  {
   "cell_type": "code",
   "execution_count": 2,
   "metadata": {},
   "outputs": [],
   "source": [
    "import redis"
   ]
  },
  {
   "cell_type": "markdown",
   "metadata": {},
   "source": [
    "Creamos una conexión al servidor de Redis."
   ]
  },
  {
   "cell_type": "code",
   "execution_count": 4,
   "metadata": {},
   "outputs": [],
   "source": [
    "r = redis.Redis(host='127.0.0.1', port=16379)"
   ]
  },
  {
   "cell_type": "markdown",
   "metadata": {},
   "source": [
    "Reiniciamos la BBDD de Redis para eliminar los datasets existentes."
   ]
  },
  {
   "cell_type": "code",
   "execution_count": 5,
   "metadata": {},
   "outputs": [
    {
     "data": {
      "text/plain": [
       "True"
      ]
     },
     "execution_count": 5,
     "metadata": {},
     "output_type": "execute_result"
    }
   ],
   "source": [
    "r.flushall()"
   ]
  },
  {
   "cell_type": "markdown",
   "metadata": {},
   "source": [
    "A modo de prueba, guardamos un par de claves/valores en la base de datos. \n",
    "Para el caso de  _Strings_:"
   ]
  },
  {
   "cell_type": "code",
   "execution_count": null,
   "metadata": {},
   "outputs": [
    {
     "name": "stdout",
     "output_type": "stream",
     "text": [
      "El plan: b'funciona'\n"
     ]
    }
   ],
   "source": [
    "# Guardamos el valor \"funciona\" con la clave \"El plan\"\n",
    "r.set('El plan', 'funciona')\n",
    "# Consultamos el valor asignado a la clave \"El plan\" en la base de datos\n",
    "print(f\"El plan: {r.get('El plan')}\")"
   ]
  },
  {
   "cell_type": "code",
   "execution_count": 12,
   "metadata": {},
   "outputs": [
    {
     "name": "stdout",
     "output_type": "stream",
     "text": [
      "El plan: b'funciona'\n"
     ]
    }
   ],
   "source": [
    "# Guardamos el valor \"funciona\" con la clave \"El plan\"\n",
    "r.set('El plan', 'funciona')\n",
    "# Consultamos el valor asignado a la clave \"El plan\" en la base de datos\n",
    "print(f\"El plan: {r.get('El plan')}\")"
   ]
  },
  {
   "cell_type": "markdown",
   "metadata": {},
   "source": [
    "Para el resto de tipos:"
   ]
  },
  {
   "cell_type": "code",
   "execution_count": 18,
   "metadata": {},
   "outputs": [
    {
     "name": "stdout",
     "output_type": "stream",
     "text": [
      "Uno es: b'1'\n",
      "Uno es: b'1.0'\n",
      "Verdadero es: True\n"
     ]
    }
   ],
   "source": [
    "# Caso: int\n",
    "r.set(\"Uno\",1)\n",
    "print(f\"Uno es: {r.get('Uno')}\")\n",
    "# Caso: float\n",
    "r.set(\"Uno\",1.0)\n",
    "print(f\"Uno es: {r.get('Uno')}\")\n",
    "# Caso: bool\n",
    "r.set(\"Verdadero\",bytes(True)) # Conversión a int/float/bytes primero\n",
    "print(f\"Verdadero es: {bool(r.get('Verdadero'))}\")"
   ]
  },
  {
   "cell_type": "markdown",
   "metadata": {},
   "source": [
    "Sobrescribimos el valor de la clave usada anteriormente:"
   ]
  },
  {
   "cell_type": "code",
   "execution_count": 13,
   "metadata": {},
   "outputs": [
    {
     "name": "stdout",
     "output_type": "stream",
     "text": [
      "El plan: b'no funciona'\n"
     ]
    }
   ],
   "source": [
    "# Guardamos con la misma \"key\" un nuevo valor\n",
    "r.set(\"El plan\",\"no funciona\")\n",
    "# Consultamos el valor asignado a la clave \"El plan\" en la base de datos\n",
    "print(f\"El plan: {r.get('El plan')}\")"
   ]
  },
  {
   "cell_type": "markdown",
   "metadata": {},
   "source": [
    "### PIPELINES: \n",
    "* Los pipelines son una subclase de la Redis _class_ que ofrece la posibilidad de almacenar mediante _buffering_ múltiples comandos lanzados contra el servidor en una misma petición.\n",
    "* Se usan para mejorar significativamente el rendimiento de grupos de comandos, al reducir el número de comandos de back-and-forth de paquetes TCP intercambiados entre cliente y servidor."
   ]
  },
  {
   "cell_type": "code",
   "execution_count": 21,
   "metadata": {},
   "outputs": [
    {
     "name": "stdout",
     "output_type": "stream",
     "text": [
      "Chamartin: b'28005'\n",
      "Salamanca: b'28004'\n",
      "Retiro: b'28007'\n",
      "Centro: None\n"
     ]
    },
    {
     "data": {
      "text/plain": [
       "[True, True, True]"
      ]
     },
     "execution_count": 21,
     "metadata": {},
     "output_type": "execute_result"
    }
   ],
   "source": [
    "# Creamos un pipeline de la base de datos Redis\n",
    "pipe = r.pipeline()\n",
    "# Guardamos las claves y valores en la BBDD\n",
    "pipe.set('Chamartin', \"28005\")\n",
    "pipe.set('Salamanca', \"28004\")\n",
    "pipe.set('Retiro', \"28007\")\n",
    "# Consultamos los valores de las claves\n",
    "print(f\"Chamartin: {r.get('Chamartin')}\")\n",
    "print(f\"Salamanca: {r.get('Salamanca')}\")\n",
    "print(f\"Retiro: {r.get('Retiro')}\")\n",
    "print(f\"Centro: {r.get('Centro')}\") # No hay valor asignado a esta clave \n",
    "pipe.execute()"
   ]
  },
  {
   "cell_type": "markdown",
   "metadata": {},
   "source": [
    "Mismo caso de antes, solo que concatenando peticiones en el mismo pipeline."
   ]
  },
  {
   "cell_type": "code",
   "execution_count": 22,
   "metadata": {},
   "outputs": [
    {
     "data": {
      "text/plain": [
       "[True, True, True, b'28005', b'28004', b'28007', None]"
      ]
     },
     "execution_count": 22,
     "metadata": {},
     "output_type": "execute_result"
    }
   ],
   "source": [
    "# Creamos un pipeline de la base de datos Redis\n",
    "pipe = r.pipeline()\n",
    "# Guardamos las claves y valores en la BBDD\n",
    "pipe.set('Chamartin', \"28005\").set('Salamanca', \"28004\").set('Retiro', \"28007\")\\\n",
    "    .get('Chamartin').get('Salamanca').get('Retiro').get('Centro').execute()"
   ]
  },
  {
   "cell_type": "markdown",
   "metadata": {},
   "source": [
    "### PUBLISH/SUBSCRIPTION\n",
    "* Redis incluye un sistema de objetos _PubSub_ que permite la subscripción a canales para escuchar nuevos mensajes publicados. "
   ]
  },
  {
   "cell_type": "code",
   "execution_count": 24,
   "metadata": {},
   "outputs": [],
   "source": [
    "import redis \n",
    "redis = redis.Redis(host='127.0.0.1', port=16379)\n",
    "consumer = redis.pubsub()\n",
    "consumer.subscribe('channel-movie', 'channel-cartoon')"
   ]
  },
  {
   "cell_type": "code",
   "execution_count": 25,
   "metadata": {},
   "outputs": [
    {
     "data": {
      "text/plain": [
       "{'type': 'subscribe',\n",
       " 'pattern': None,\n",
       " 'channel': b'channel-cartoon',\n",
       " 'data': 2}"
      ]
     },
     "execution_count": 25,
     "metadata": {},
     "output_type": "execute_result"
    }
   ],
   "source": [
    "consumer.get_message()"
   ]
  },
  {
   "cell_type": "code",
   "execution_count": 26,
   "metadata": {},
   "outputs": [
    {
     "data": {
      "text/plain": [
       "{b'channel-movie': None, b'channel-cartoon': None}"
      ]
     },
     "execution_count": 26,
     "metadata": {},
     "output_type": "execute_result"
    }
   ],
   "source": [
    "consumer.channels"
   ]
  }
 ],
 "metadata": {
  "interpreter": {
   "hash": "b721f3c8f99b48512fb80e5bd05d3af807ac3cda5269fe1514b0c1bed2de3bde"
  },
  "kernelspec": {
   "display_name": "Python 3.9.7 ('SSDD')",
   "language": "python",
   "name": "python3"
  },
  "language_info": {
   "codemirror_mode": {
    "name": "ipython",
    "version": 3
   },
   "file_extension": ".py",
   "mimetype": "text/x-python",
   "name": "python",
   "nbconvert_exporter": "python",
   "pygments_lexer": "ipython3",
   "version": "3.9.7"
  },
  "orig_nbformat": 4
 },
 "nbformat": 4,
 "nbformat_minor": 2
}
