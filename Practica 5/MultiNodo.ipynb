{
 "cells": [
  {
   "cell_type": "markdown",
   "metadata": {},
   "source": [
    "# PRACTICA 6 PRUEBA CLUSTER"
   ]
  },
  {
   "cell_type": "code",
   "execution_count": 1,
   "metadata": {},
   "outputs": [],
   "source": [
    "import redis"
   ]
  },
  {
   "cell_type": "markdown",
   "metadata": {},
   "source": [
    "Se crean diferentes instancias, cada una de ellas conectada a un servidor del cluster"
   ]
  },
  {
   "cell_type": "code",
   "execution_count": 6,
   "metadata": {},
   "outputs": [],
   "source": [
    "r1 = redis.Redis(host='127.0.0.1', port=7000)\n",
    "r2 = redis.Redis(host='127.0.0.1', port=7002)\n",
    "r3 = redis.Redis(host='127.0.0.1', port=7004)"
   ]
  },
  {
   "cell_type": "markdown",
   "metadata": {},
   "source": [
    "Se inserta un valor en la instacia 1 del servidor, se espera que falle puesto que el valor que se introduce no pertenece al slot asignado al servidor 1"
   ]
  },
  {
   "cell_type": "code",
   "execution_count": 8,
   "metadata": {},
   "outputs": [
    {
     "ename": "ResponseError",
     "evalue": "CLUSTERDOWN The cluster is down",
     "output_type": "error",
     "traceback": [
      "\u001b[1;31m---------------------------------------------------------------------------\u001b[0m",
      "\u001b[1;31mResponseError\u001b[0m                             Traceback (most recent call last)",
      "\u001b[1;32mc:\\Users\\egeah\\Sistemas Distribuidos\\Practicas-Sistemas-Distribuidos\\Practica 5\\MultiNodo.ipynb Cell 6'\u001b[0m in \u001b[0;36m<cell line: 1>\u001b[1;34m()\u001b[0m\n\u001b[1;32m----> <a href='vscode-notebook-cell:/c%3A/Users/egeah/Sistemas%20Distribuidos/Practicas-Sistemas-Distribuidos/Practica%205/MultiNodo.ipynb#ch0000005?line=0'>1</a>\u001b[0m r1\u001b[39m.\u001b[39;49mset(\u001b[39m'\u001b[39;49m\u001b[39mRaul\u001b[39;49m\u001b[39m'\u001b[39;49m, \u001b[39m'\u001b[39;49m\u001b[39mmola\u001b[39;49m\u001b[39m'\u001b[39;49m)\n\u001b[0;32m      <a href='vscode-notebook-cell:/c%3A/Users/egeah/Sistemas%20Distribuidos/Practicas-Sistemas-Distribuidos/Practica%205/MultiNodo.ipynb#ch0000005?line=1'>2</a>\u001b[0m r1\u001b[39m.\u001b[39mget(\u001b[39m'\u001b[39m\u001b[39mRaul\u001b[39m\u001b[39m'\u001b[39m)\n",
      "File \u001b[1;32m~\\miniconda3\\envs\\SSDD\\lib\\site-packages\\redis\\client.py:1801\u001b[0m, in \u001b[0;36mRedis.set\u001b[1;34m(self, name, value, ex, px, nx, xx, keepttl)\u001b[0m\n\u001b[0;32m   <a href='file:///c%3A/Users/egeah/miniconda3/envs/SSDD/lib/site-packages/redis/client.py?line=1797'>1798</a>\u001b[0m \u001b[39mif\u001b[39;00m keepttl:\n\u001b[0;32m   <a href='file:///c%3A/Users/egeah/miniconda3/envs/SSDD/lib/site-packages/redis/client.py?line=1798'>1799</a>\u001b[0m     pieces\u001b[39m.\u001b[39mappend(\u001b[39m'\u001b[39m\u001b[39mKEEPTTL\u001b[39m\u001b[39m'\u001b[39m)\n\u001b[1;32m-> <a href='file:///c%3A/Users/egeah/miniconda3/envs/SSDD/lib/site-packages/redis/client.py?line=1800'>1801</a>\u001b[0m \u001b[39mreturn\u001b[39;00m \u001b[39mself\u001b[39;49m\u001b[39m.\u001b[39;49mexecute_command(\u001b[39m'\u001b[39;49m\u001b[39mSET\u001b[39;49m\u001b[39m'\u001b[39;49m, \u001b[39m*\u001b[39;49mpieces)\n",
      "File \u001b[1;32m~\\miniconda3\\envs\\SSDD\\lib\\site-packages\\redis\\client.py:901\u001b[0m, in \u001b[0;36mRedis.execute_command\u001b[1;34m(self, *args, **options)\u001b[0m\n\u001b[0;32m    <a href='file:///c%3A/Users/egeah/miniconda3/envs/SSDD/lib/site-packages/redis/client.py?line=898'>899</a>\u001b[0m \u001b[39mtry\u001b[39;00m:\n\u001b[0;32m    <a href='file:///c%3A/Users/egeah/miniconda3/envs/SSDD/lib/site-packages/redis/client.py?line=899'>900</a>\u001b[0m     conn\u001b[39m.\u001b[39msend_command(\u001b[39m*\u001b[39margs)\n\u001b[1;32m--> <a href='file:///c%3A/Users/egeah/miniconda3/envs/SSDD/lib/site-packages/redis/client.py?line=900'>901</a>\u001b[0m     \u001b[39mreturn\u001b[39;00m \u001b[39mself\u001b[39m\u001b[39m.\u001b[39mparse_response(conn, command_name, \u001b[39m*\u001b[39m\u001b[39m*\u001b[39moptions)\n\u001b[0;32m    <a href='file:///c%3A/Users/egeah/miniconda3/envs/SSDD/lib/site-packages/redis/client.py?line=901'>902</a>\u001b[0m \u001b[39mexcept\u001b[39;00m (\u001b[39mConnectionError\u001b[39;00m, \u001b[39mTimeoutError\u001b[39;00m) \u001b[39mas\u001b[39;00m e:\n\u001b[0;32m    <a href='file:///c%3A/Users/egeah/miniconda3/envs/SSDD/lib/site-packages/redis/client.py?line=902'>903</a>\u001b[0m     conn\u001b[39m.\u001b[39mdisconnect()\n",
      "File \u001b[1;32m~\\miniconda3\\envs\\SSDD\\lib\\site-packages\\redis\\client.py:915\u001b[0m, in \u001b[0;36mRedis.parse_response\u001b[1;34m(self, connection, command_name, **options)\u001b[0m\n\u001b[0;32m    <a href='file:///c%3A/Users/egeah/miniconda3/envs/SSDD/lib/site-packages/redis/client.py?line=912'>913</a>\u001b[0m \u001b[39m\"\u001b[39m\u001b[39mParses a response from the Redis server\u001b[39m\u001b[39m\"\u001b[39m\n\u001b[0;32m    <a href='file:///c%3A/Users/egeah/miniconda3/envs/SSDD/lib/site-packages/redis/client.py?line=913'>914</a>\u001b[0m \u001b[39mtry\u001b[39;00m:\n\u001b[1;32m--> <a href='file:///c%3A/Users/egeah/miniconda3/envs/SSDD/lib/site-packages/redis/client.py?line=914'>915</a>\u001b[0m     response \u001b[39m=\u001b[39m connection\u001b[39m.\u001b[39;49mread_response()\n\u001b[0;32m    <a href='file:///c%3A/Users/egeah/miniconda3/envs/SSDD/lib/site-packages/redis/client.py?line=915'>916</a>\u001b[0m \u001b[39mexcept\u001b[39;00m ResponseError:\n\u001b[0;32m    <a href='file:///c%3A/Users/egeah/miniconda3/envs/SSDD/lib/site-packages/redis/client.py?line=916'>917</a>\u001b[0m     \u001b[39mif\u001b[39;00m EMPTY_RESPONSE \u001b[39min\u001b[39;00m options:\n",
      "File \u001b[1;32m~\\miniconda3\\envs\\SSDD\\lib\\site-packages\\redis\\connection.py:756\u001b[0m, in \u001b[0;36mConnection.read_response\u001b[1;34m(self)\u001b[0m\n\u001b[0;32m    <a href='file:///c%3A/Users/egeah/miniconda3/envs/SSDD/lib/site-packages/redis/connection.py?line=752'>753</a>\u001b[0m     \u001b[39mself\u001b[39m\u001b[39m.\u001b[39mnext_health_check \u001b[39m=\u001b[39m time() \u001b[39m+\u001b[39m \u001b[39mself\u001b[39m\u001b[39m.\u001b[39mhealth_check_interval\n\u001b[0;32m    <a href='file:///c%3A/Users/egeah/miniconda3/envs/SSDD/lib/site-packages/redis/connection.py?line=754'>755</a>\u001b[0m \u001b[39mif\u001b[39;00m \u001b[39misinstance\u001b[39m(response, ResponseError):\n\u001b[1;32m--> <a href='file:///c%3A/Users/egeah/miniconda3/envs/SSDD/lib/site-packages/redis/connection.py?line=755'>756</a>\u001b[0m     \u001b[39mraise\u001b[39;00m response\n\u001b[0;32m    <a href='file:///c%3A/Users/egeah/miniconda3/envs/SSDD/lib/site-packages/redis/connection.py?line=756'>757</a>\u001b[0m \u001b[39mreturn\u001b[39;00m response\n",
      "\u001b[1;31mResponseError\u001b[0m: CLUSTERDOWN The cluster is down"
     ]
    }
   ],
   "source": [
    "r1.set('Raul', 'mola')\n",
    "r1.get('Raul')"
   ]
  },
  {
   "cell_type": "markdown",
   "metadata": {},
   "source": [
    "Se prueba forma alternativa para comprobar que con trys y catches se puede realizar cualquier consulta"
   ]
  },
  {
   "cell_type": "code",
   "execution_count": null,
   "metadata": {},
   "outputs": [],
   "source": [
    "try:\n",
    "    r1.set('Raul', 'mola')\n",
    "    print(\"Se ha introducido en el nodo 1\")\n",
    "except:\n",
    "    try:\n",
    "        r2.set('Raul', 'mola')\n",
    "        print(\"Se ha introducido en el nodo 2\")\n",
    "    except:\n",
    "        try:\n",
    "            r3.set('Raul','mola')\n",
    "            print(\"Se ha introducido en el nodo 3\")\n",
    "        except:\n",
    "            print(\"couldnt complete the set opertation\")"
   ]
  },
  {
   "cell_type": "markdown",
   "metadata": {},
   "source": [
    "Se prueba nueva forma de acceder al cluster. De esta forma se calcula de forma automatica a que nodo pertenece cada string introducido"
   ]
  },
  {
   "cell_type": "code",
   "execution_count": null,
   "metadata": {},
   "outputs": [],
   "source": [
    "from rediscluster import RedisCluster"
   ]
  },
  {
   "cell_type": "markdown",
   "metadata": {},
   "source": [
    "Se conecta a los nodos del cluster"
   ]
  },
  {
   "cell_type": "markdown",
   "metadata": {},
   "source": [
    "startup_nodes = [{\"host\": \"127.0.0.1\", \"port\": \"7000\"},{\"host\": \"127.0.0.1\", \"port\": \"7002\"},{\"host\": \"127.0.0.1\", \"port\": \"7004\"}]\n",
    "rc = RedisCluster(startup_nodes=startup_nodes, decode_responses=True)"
   ]
  },
  {
   "cell_type": "markdown",
   "metadata": {},
   "source": [
    "Se obtiene el slot determinado para una clave concreta"
   ]
  },
  {
   "cell_type": "code",
   "execution_count": null,
   "metadata": {},
   "outputs": [],
   "source": [
    "rc.cluster_keyslot(\"foo\")"
   ]
  },
  {
   "cell_type": "markdown",
   "metadata": {},
   "source": [
    "Debido a la lentitud de método anterior, se va a explorar una forma alternativa más optimizada"
   ]
  },
  {
   "cell_type": "code",
   "execution_count": null,
   "metadata": {},
   "outputs": [],
   "source": [
    "import crcmod\n",
    "#Variable que contiene los slots en función del nodo\n",
    "SlotToServer=dict([(i,r1) for i in range(5461)]+\n",
    "     [(j,r2) for j in range(5461,10923)]+\n",
    "     [(k,r3) for k in range(10923,16384)])\n",
    "\n",
    "\n",
    "def getSlot(key):\n",
    "    #key must be binary\n",
    "    crc16 = crcmod.mkCrcFun(0x11021, rev=False, initCrc=0x0000, xorOut=0x0000)\n",
    "    return crc16(key) % 16384"
   ]
  },
  {
   "cell_type": "markdown",
   "metadata": {},
   "source": [
    "Se carga una clave y un valor en la base de datos"
   ]
  },
  {
   "cell_type": "code",
   "execution_count": null,
   "metadata": {},
   "outputs": [],
   "source": [
    "r=SlotToServer[getSlot(b'foo')]\n",
    "r.set('foo','bar')"
   ]
  }
 ],
 "metadata": {
  "interpreter": {
   "hash": "b721f3c8f99b48512fb80e5bd05d3af807ac3cda5269fe1514b0c1bed2de3bde"
  },
  "kernelspec": {
   "display_name": "Python 3.9.7 ('SSDD')",
   "language": "python",
   "name": "python3"
  },
  "language_info": {
   "codemirror_mode": {
    "name": "ipython",
    "version": 3
   },
   "file_extension": ".py",
   "mimetype": "text/x-python",
   "name": "python",
   "nbconvert_exporter": "python",
   "pygments_lexer": "ipython3",
   "version": "3.9.7"
  },
  "orig_nbformat": 4
 },
 "nbformat": 4,
 "nbformat_minor": 2
}
