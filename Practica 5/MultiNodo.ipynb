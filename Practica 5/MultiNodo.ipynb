{
 "cells": [
  {
   "cell_type": "markdown",
   "metadata": {},
   "source": [
    "# PRACTICA 6 PRUEBA CLUSTER"
   ]
  },
  {
   "cell_type": "code",
   "execution_count": 3,
   "metadata": {},
   "outputs": [],
   "source": [
    "import redis"
   ]
  },
  {
   "cell_type": "markdown",
   "metadata": {},
   "source": [
    "Se crean diferentes instancias, cada una de ellas conectada a un servidor del cluster"
   ]
  },
  {
   "cell_type": "code",
   "execution_count": 4,
   "metadata": {},
   "outputs": [],
   "source": [
    "r1 = redis.Redis(host='127.0.0.1', port=7000)\n",
    "r2 = redis.Redis(host='127.0.0.1', port=7002)\n",
    "r3 = redis.Redis(host='127.0.0.1', port=7004)"
   ]
  },
  {
   "cell_type": "markdown",
   "metadata": {},
   "source": [
    "Se inserta un valor en la instacia 1 del servidor, se espera que falle puesto que el valor que se introduce no pertenece al slot asignado al servidor 1"
   ]
  },
  {
   "cell_type": "code",
   "execution_count": 5,
   "metadata": {},
   "outputs": [
    {
     "ename": "ResponseError",
     "evalue": "MOVED 11918 172.18.0.4:7004",
     "output_type": "error",
     "traceback": [
      "\u001b[1;31m---------------------------------------------------------------------------\u001b[0m",
      "\u001b[1;31mResponseError\u001b[0m                             Traceback (most recent call last)",
      "\u001b[1;32mc:\\Users\\egeah\\Sistemas Distribuidos\\Practicas-Sistemas-Distribuidos\\Practica 5\\MultiNodo.ipynb Cell 6'\u001b[0m in \u001b[0;36m<cell line: 1>\u001b[1;34m()\u001b[0m\n\u001b[1;32m----> <a href='vscode-notebook-cell:/c%3A/Users/egeah/Sistemas%20Distribuidos/Practicas-Sistemas-Distribuidos/Practica%205/MultiNodo.ipynb#ch0000005?line=0'>1</a>\u001b[0m r1\u001b[39m.\u001b[39;49mset(\u001b[39m'\u001b[39;49m\u001b[39mRaul\u001b[39;49m\u001b[39m'\u001b[39;49m, \u001b[39m'\u001b[39;49m\u001b[39mmola\u001b[39;49m\u001b[39m'\u001b[39;49m)\n\u001b[0;32m      <a href='vscode-notebook-cell:/c%3A/Users/egeah/Sistemas%20Distribuidos/Practicas-Sistemas-Distribuidos/Practica%205/MultiNodo.ipynb#ch0000005?line=1'>2</a>\u001b[0m r1\u001b[39m.\u001b[39mget(\u001b[39m'\u001b[39m\u001b[39mRaul\u001b[39m\u001b[39m'\u001b[39m)\n",
      "File \u001b[1;32m~\\miniconda3\\envs\\SSDD\\lib\\site-packages\\redis\\client.py:1801\u001b[0m, in \u001b[0;36mRedis.set\u001b[1;34m(self, name, value, ex, px, nx, xx, keepttl)\u001b[0m\n\u001b[0;32m   <a href='file:///c%3A/Users/egeah/miniconda3/envs/SSDD/lib/site-packages/redis/client.py?line=1797'>1798</a>\u001b[0m \u001b[39mif\u001b[39;00m keepttl:\n\u001b[0;32m   <a href='file:///c%3A/Users/egeah/miniconda3/envs/SSDD/lib/site-packages/redis/client.py?line=1798'>1799</a>\u001b[0m     pieces\u001b[39m.\u001b[39mappend(\u001b[39m'\u001b[39m\u001b[39mKEEPTTL\u001b[39m\u001b[39m'\u001b[39m)\n\u001b[1;32m-> <a href='file:///c%3A/Users/egeah/miniconda3/envs/SSDD/lib/site-packages/redis/client.py?line=1800'>1801</a>\u001b[0m \u001b[39mreturn\u001b[39;00m \u001b[39mself\u001b[39;49m\u001b[39m.\u001b[39;49mexecute_command(\u001b[39m'\u001b[39;49m\u001b[39mSET\u001b[39;49m\u001b[39m'\u001b[39;49m, \u001b[39m*\u001b[39;49mpieces)\n",
      "File \u001b[1;32m~\\miniconda3\\envs\\SSDD\\lib\\site-packages\\redis\\client.py:901\u001b[0m, in \u001b[0;36mRedis.execute_command\u001b[1;34m(self, *args, **options)\u001b[0m\n\u001b[0;32m    <a href='file:///c%3A/Users/egeah/miniconda3/envs/SSDD/lib/site-packages/redis/client.py?line=898'>899</a>\u001b[0m \u001b[39mtry\u001b[39;00m:\n\u001b[0;32m    <a href='file:///c%3A/Users/egeah/miniconda3/envs/SSDD/lib/site-packages/redis/client.py?line=899'>900</a>\u001b[0m     conn\u001b[39m.\u001b[39msend_command(\u001b[39m*\u001b[39margs)\n\u001b[1;32m--> <a href='file:///c%3A/Users/egeah/miniconda3/envs/SSDD/lib/site-packages/redis/client.py?line=900'>901</a>\u001b[0m     \u001b[39mreturn\u001b[39;00m \u001b[39mself\u001b[39m\u001b[39m.\u001b[39mparse_response(conn, command_name, \u001b[39m*\u001b[39m\u001b[39m*\u001b[39moptions)\n\u001b[0;32m    <a href='file:///c%3A/Users/egeah/miniconda3/envs/SSDD/lib/site-packages/redis/client.py?line=901'>902</a>\u001b[0m \u001b[39mexcept\u001b[39;00m (\u001b[39mConnectionError\u001b[39;00m, \u001b[39mTimeoutError\u001b[39;00m) \u001b[39mas\u001b[39;00m e:\n\u001b[0;32m    <a href='file:///c%3A/Users/egeah/miniconda3/envs/SSDD/lib/site-packages/redis/client.py?line=902'>903</a>\u001b[0m     conn\u001b[39m.\u001b[39mdisconnect()\n",
      "File \u001b[1;32m~\\miniconda3\\envs\\SSDD\\lib\\site-packages\\redis\\client.py:915\u001b[0m, in \u001b[0;36mRedis.parse_response\u001b[1;34m(self, connection, command_name, **options)\u001b[0m\n\u001b[0;32m    <a href='file:///c%3A/Users/egeah/miniconda3/envs/SSDD/lib/site-packages/redis/client.py?line=912'>913</a>\u001b[0m \u001b[39m\"\u001b[39m\u001b[39mParses a response from the Redis server\u001b[39m\u001b[39m\"\u001b[39m\n\u001b[0;32m    <a href='file:///c%3A/Users/egeah/miniconda3/envs/SSDD/lib/site-packages/redis/client.py?line=913'>914</a>\u001b[0m \u001b[39mtry\u001b[39;00m:\n\u001b[1;32m--> <a href='file:///c%3A/Users/egeah/miniconda3/envs/SSDD/lib/site-packages/redis/client.py?line=914'>915</a>\u001b[0m     response \u001b[39m=\u001b[39m connection\u001b[39m.\u001b[39;49mread_response()\n\u001b[0;32m    <a href='file:///c%3A/Users/egeah/miniconda3/envs/SSDD/lib/site-packages/redis/client.py?line=915'>916</a>\u001b[0m \u001b[39mexcept\u001b[39;00m ResponseError:\n\u001b[0;32m    <a href='file:///c%3A/Users/egeah/miniconda3/envs/SSDD/lib/site-packages/redis/client.py?line=916'>917</a>\u001b[0m     \u001b[39mif\u001b[39;00m EMPTY_RESPONSE \u001b[39min\u001b[39;00m options:\n",
      "File \u001b[1;32m~\\miniconda3\\envs\\SSDD\\lib\\site-packages\\redis\\connection.py:756\u001b[0m, in \u001b[0;36mConnection.read_response\u001b[1;34m(self)\u001b[0m\n\u001b[0;32m    <a href='file:///c%3A/Users/egeah/miniconda3/envs/SSDD/lib/site-packages/redis/connection.py?line=752'>753</a>\u001b[0m     \u001b[39mself\u001b[39m\u001b[39m.\u001b[39mnext_health_check \u001b[39m=\u001b[39m time() \u001b[39m+\u001b[39m \u001b[39mself\u001b[39m\u001b[39m.\u001b[39mhealth_check_interval\n\u001b[0;32m    <a href='file:///c%3A/Users/egeah/miniconda3/envs/SSDD/lib/site-packages/redis/connection.py?line=754'>755</a>\u001b[0m \u001b[39mif\u001b[39;00m \u001b[39misinstance\u001b[39m(response, ResponseError):\n\u001b[1;32m--> <a href='file:///c%3A/Users/egeah/miniconda3/envs/SSDD/lib/site-packages/redis/connection.py?line=755'>756</a>\u001b[0m     \u001b[39mraise\u001b[39;00m response\n\u001b[0;32m    <a href='file:///c%3A/Users/egeah/miniconda3/envs/SSDD/lib/site-packages/redis/connection.py?line=756'>757</a>\u001b[0m \u001b[39mreturn\u001b[39;00m response\n",
      "\u001b[1;31mResponseError\u001b[0m: MOVED 11918 172.18.0.4:7004"
     ]
    }
   ],
   "source": [
    "r1.set('Raul', 'mola')\n",
    "r1.get('Raul')"
   ]
  },
  {
   "cell_type": "markdown",
   "metadata": {},
   "source": [
    "Se esperaba obtener este mensaje de error, puesto que el mensaje que se desea introducir no corresponde al slot del nodo donde se intenta introducir"
   ]
  },
  {
   "cell_type": "markdown",
   "metadata": {},
   "source": [
    "Se prueba forma alternativa para comprobar que con trys y catches se puede realizar cualquier consulta"
   ]
  },
  {
   "cell_type": "code",
   "execution_count": 7,
   "metadata": {},
   "outputs": [
    {
     "name": "stdout",
     "output_type": "stream",
     "text": [
      "Se ha introducido en el nodo 3\n"
     ]
    }
   ],
   "source": [
    "try:\n",
    "    r1.set('Raul', 'mola')\n",
    "    print(\"Se ha introducido en el nodo 1\")\n",
    "except redis.ResponseError:\n",
    "    try:\n",
    "        r2.set('Raul', 'mola')\n",
    "        print(\"Se ha introducido en el nodo 2\")\n",
    "    except redis.ResponseError:\n",
    "        try:\n",
    "            r3.set('Raul','mola')\n",
    "            print(\"Se ha introducido en el nodo 3\")\n",
    "        except redis.ResponseError:\n",
    "            print(\"couldnt complete the set opertation\")"
   ]
  },
  {
   "cell_type": "markdown",
   "metadata": {},
   "source": [
    "Se prueba nueva forma de acceder al cluster. De esta forma se calcula de forma automatica a que nodo pertenece cada string introducido"
   ]
  },
  {
   "cell_type": "code",
   "execution_count": 2,
   "metadata": {},
   "outputs": [],
   "source": [
    "from rediscluster import RedisCluster"
   ]
  },
  {
   "cell_type": "markdown",
   "metadata": {},
   "source": [
    "Se conecta a los nodos del cluster"
   ]
  },
  {
   "cell_type": "code",
   "execution_count": 3,
   "metadata": {},
   "outputs": [],
   "source": [
    "startup_nodes = [{\"host\": \"127.0.0.1\", \"port\": \"7000\"},{\"host\": \"127.0.0.1\", \"port\": \"7002\"},{\"host\": \"127.0.0.1\", \"port\": \"7004\"}]\n",
    "rc = RedisCluster(startup_nodes=startup_nodes, decode_responses=True)"
   ]
  },
  {
   "cell_type": "markdown",
   "metadata": {},
   "source": [
    "Se obtiene el slot determinado para una clave concreta"
   ]
  },
  {
   "cell_type": "code",
   "execution_count": 4,
   "metadata": {},
   "outputs": [
    {
     "ename": "ClusterError",
     "evalue": "TTL exhausted.",
     "output_type": "error",
     "traceback": [
      "\u001b[1;31m---------------------------------------------------------------------------\u001b[0m",
      "\u001b[1;31mClusterError\u001b[0m                              Traceback (most recent call last)",
      "\u001b[1;32mc:\\Users\\egeah\\Sistemas Distribuidos\\Practicas-Sistemas-Distribuidos\\Practica 5\\MultiNodo.ipynb Cell 15'\u001b[0m in \u001b[0;36m<cell line: 1>\u001b[1;34m()\u001b[0m\n\u001b[1;32m----> <a href='vscode-notebook-cell:/c%3A/Users/egeah/Sistemas%20Distribuidos/Practicas-Sistemas-Distribuidos/Practica%205/MultiNodo.ipynb#ch0000014?line=0'>1</a>\u001b[0m rc\u001b[39m.\u001b[39;49mcluster_keyslot(\u001b[39m\"\u001b[39;49m\u001b[39mfoo\u001b[39;49m\u001b[39m\"\u001b[39;49m)\n",
      "File \u001b[1;32m~\\miniconda3\\envs\\SSDD\\lib\\site-packages\\rediscluster\\client.py:839\u001b[0m, in \u001b[0;36mRedisCluster.cluster_keyslot\u001b[1;34m(self, name)\u001b[0m\n\u001b[0;32m    <a href='file:///c%3A/Users/egeah/miniconda3/envs/SSDD/lib/site-packages/rediscluster/client.py?line=832'>833</a>\u001b[0m \u001b[39mdef\u001b[39;00m \u001b[39mcluster_keyslot\u001b[39m(\u001b[39mself\u001b[39m, name):\n\u001b[0;32m    <a href='file:///c%3A/Users/egeah/miniconda3/envs/SSDD/lib/site-packages/rediscluster/client.py?line=833'>834</a>\u001b[0m     \u001b[39m\"\"\"\u001b[39;00m\n\u001b[0;32m    <a href='file:///c%3A/Users/egeah/miniconda3/envs/SSDD/lib/site-packages/rediscluster/client.py?line=834'>835</a>\u001b[0m \u001b[39m    Returns the hash slot of the specified key\u001b[39;00m\n\u001b[0;32m    <a href='file:///c%3A/Users/egeah/miniconda3/envs/SSDD/lib/site-packages/rediscluster/client.py?line=835'>836</a>\u001b[0m \n\u001b[0;32m    <a href='file:///c%3A/Users/egeah/miniconda3/envs/SSDD/lib/site-packages/rediscluster/client.py?line=836'>837</a>\u001b[0m \u001b[39m    Sends to random node in the cluster\u001b[39;00m\n\u001b[0;32m    <a href='file:///c%3A/Users/egeah/miniconda3/envs/SSDD/lib/site-packages/rediscluster/client.py?line=837'>838</a>\u001b[0m \u001b[39m    \"\"\"\u001b[39;00m\n\u001b[1;32m--> <a href='file:///c%3A/Users/egeah/miniconda3/envs/SSDD/lib/site-packages/rediscluster/client.py?line=838'>839</a>\u001b[0m     \u001b[39mreturn\u001b[39;00m \u001b[39mself\u001b[39;49m\u001b[39m.\u001b[39;49mexecute_command(\u001b[39m'\u001b[39;49m\u001b[39mCLUSTER KEYSLOT\u001b[39;49m\u001b[39m'\u001b[39;49m, name)\n",
      "File \u001b[1;32m~\\miniconda3\\envs\\SSDD\\lib\\site-packages\\rediscluster\\client.py:555\u001b[0m, in \u001b[0;36mRedisCluster.execute_command\u001b[1;34m(self, *args, **kwargs)\u001b[0m\n\u001b[0;32m    <a href='file:///c%3A/Users/egeah/miniconda3/envs/SSDD/lib/site-packages/rediscluster/client.py?line=552'>553</a>\u001b[0m \u001b[39mfor\u001b[39;00m _ \u001b[39min\u001b[39;00m \u001b[39mrange\u001b[39m(\u001b[39m0\u001b[39m, \u001b[39mself\u001b[39m\u001b[39m.\u001b[39mcluster_down_retry_attempts):\n\u001b[0;32m    <a href='file:///c%3A/Users/egeah/miniconda3/envs/SSDD/lib/site-packages/rediscluster/client.py?line=553'>554</a>\u001b[0m     \u001b[39mtry\u001b[39;00m:\n\u001b[1;32m--> <a href='file:///c%3A/Users/egeah/miniconda3/envs/SSDD/lib/site-packages/rediscluster/client.py?line=554'>555</a>\u001b[0m         \u001b[39mreturn\u001b[39;00m \u001b[39mself\u001b[39m\u001b[39m.\u001b[39m_execute_command(\u001b[39m*\u001b[39margs, \u001b[39m*\u001b[39m\u001b[39m*\u001b[39mkwargs)\n\u001b[0;32m    <a href='file:///c%3A/Users/egeah/miniconda3/envs/SSDD/lib/site-packages/rediscluster/client.py?line=555'>556</a>\u001b[0m     \u001b[39mexcept\u001b[39;00m ClusterDownError:\n\u001b[0;32m    <a href='file:///c%3A/Users/egeah/miniconda3/envs/SSDD/lib/site-packages/rediscluster/client.py?line=556'>557</a>\u001b[0m         \u001b[39m# Try again with the new cluster setup. All other errors\u001b[39;00m\n\u001b[0;32m    <a href='file:///c%3A/Users/egeah/miniconda3/envs/SSDD/lib/site-packages/rediscluster/client.py?line=557'>558</a>\u001b[0m         \u001b[39m# should be raised.\u001b[39;00m\n\u001b[0;32m    <a href='file:///c%3A/Users/egeah/miniconda3/envs/SSDD/lib/site-packages/rediscluster/client.py?line=558'>559</a>\u001b[0m         \u001b[39mpass\u001b[39;00m\n",
      "File \u001b[1;32m~\\miniconda3\\envs\\SSDD\\lib\\site-packages\\rediscluster\\client.py:721\u001b[0m, in \u001b[0;36mRedisCluster._execute_command\u001b[1;34m(self, *args, **kwargs)\u001b[0m\n\u001b[0;32m    <a href='file:///c%3A/Users/egeah/miniconda3/envs/SSDD/lib/site-packages/rediscluster/client.py?line=716'>717</a>\u001b[0m             \u001b[39mself\u001b[39m\u001b[39m.\u001b[39mconnection_pool\u001b[39m.\u001b[39mrelease(connection)\n\u001b[0;32m    <a href='file:///c%3A/Users/egeah/miniconda3/envs/SSDD/lib/site-packages/rediscluster/client.py?line=718'>719</a>\u001b[0m     log\u001b[39m.\u001b[39mdebug(\u001b[39m\"\u001b[39m\u001b[39mTTL loop : \u001b[39m\u001b[39m\"\u001b[39m \u001b[39m+\u001b[39m \u001b[39mstr\u001b[39m(ttl))\n\u001b[1;32m--> <a href='file:///c%3A/Users/egeah/miniconda3/envs/SSDD/lib/site-packages/rediscluster/client.py?line=720'>721</a>\u001b[0m \u001b[39mraise\u001b[39;00m ClusterError(\u001b[39m'\u001b[39m\u001b[39mTTL exhausted.\u001b[39m\u001b[39m'\u001b[39m)\n",
      "\u001b[1;31mClusterError\u001b[0m: TTL exhausted."
     ]
    }
   ],
   "source": [
    "rc.cluster_keyslot(\"foo\")"
   ]
  },
  {
   "cell_type": "markdown",
   "metadata": {},
   "source": [
    "Debido a la lentitud de método anterior, se va a explorar una forma alternativa más optimizada"
   ]
  },
  {
   "cell_type": "code",
   "execution_count": null,
   "metadata": {},
   "outputs": [],
   "source": [
    "import crcmod\n",
    "#Variable que contiene los slots en función del nodo\n",
    "SlotToServer=dict([(i,r2) for i in range(5461)]+\n",
    "     [(j,r1) for j in range(5461,10922)]+\n",
    "     [(k,r3) for k in range(10923,16383)])\n",
    "\n",
    "\n",
    "def getSlot(key):\n",
    "    #key must be binary\n",
    "    crc16 = crcmod.mkCrcFun(0x11021, rev=False, initCrc=0x0000, xorOut=0x0000)\n",
    "    return crc16(key) % 16384"
   ]
  },
  {
   "cell_type": "markdown",
   "metadata": {},
   "source": [
    "Se carga una clave y un valor en la base de datos"
   ]
  },
  {
   "cell_type": "code",
   "execution_count": null,
   "metadata": {},
   "outputs": [],
   "source": [
    "r=SlotToServer[getSlot(b'foo')]\n",
    "r.set('foo','bar')"
   ]
  }
 ],
 "metadata": {
  "interpreter": {
   "hash": "b721f3c8f99b48512fb80e5bd05d3af807ac3cda5269fe1514b0c1bed2de3bde"
  },
  "kernelspec": {
   "display_name": "Python 3.9.7 ('SSDD')",
   "language": "python",
   "name": "python3"
  },
  "language_info": {
   "codemirror_mode": {
    "name": "ipython",
    "version": 3
   },
   "file_extension": ".py",
   "mimetype": "text/x-python",
   "name": "python",
   "nbconvert_exporter": "python",
   "pygments_lexer": "ipython3",
   "version": "3.9.7"
  },
  "orig_nbformat": 4
 },
 "nbformat": 4,
 "nbformat_minor": 2
}
